{
 "cells": [
  {
   "cell_type": "markdown",
   "metadata": {},
   "source": [
    "# PDEs 3 Python Refresher\n",
    "\n",
    "## Using Numpy Arrays\n",
    "\n",
    "This notebook is a refresher on using numpy arrays in Python, which we will use extensively in the Partial Differential Equations 3 course.\n",
    "\n",
    "Numpy arrays are similar to Python lists, but they are more efficient for numerical computations.\n",
    "\n",
    "In this refresher, we will cover the following topics:\n",
    "- Creating numpy arrays\n",
    "- Indexing and slicing\n",
    "- Array operations\n",
    "\n",
    "Before we can use numpy, we need to import it. In this course, we will typically do this for you."
   ]
  },
  {
   "cell_type": "code",
   "execution_count": 1,
   "metadata": {},
   "outputs": [],
   "source": [
    "import numpy as np # This line gives you access to numpy's functions which you can call using np.<function_name>()"
   ]
  },
  {
   "cell_type": "markdown",
   "metadata": {},
   "source": [
    "## Section 1: Creating Numpy Arrays\n",
    "\n",
    "Numpy arrays can be created from lists or using functions such as [`np.linspace`](https://numpy.org/doc/stable/reference/generated/numpy.linspace.html) and [`np.arange`](https://numpy.org/doc/stable/reference/generated/numpy.arange.html).\n",
    "\n",
    "We can also create numpy arrays with more than one dimension, which will be particualrly useful when solving partial differential equations later in the course.\n",
    "\n",
    "### Creating a numpy array from a list\n",
    "You can create a numpy array from a Python list using the [`np.array`](https://numpy.org/doc/stable/reference/generated/numpy.array.html) function. This function takes a list as input and returns a numpy array.\n"
   ]
  },
  {
   "cell_type": "code",
   "execution_count": 2,
   "metadata": {},
   "outputs": [
    {
     "name": "stdout",
     "output_type": "stream",
     "text": [
      "[1 2 3 4 5]\n"
     ]
    }
   ],
   "source": [
    "array_from_list = np.array(object = [1, 2, 3, 4, 5])\n",
    "print(array_from_list)"
   ]
  },
  {
   "cell_type": "markdown",
   "metadata": {},
   "source": [
    "### Creating a numpy array using arange\n",
    "\n",
    "A more useful ways to create numpy arrays is by specifying the start and end values of the array, and the step size. This can be done using the [`np.arange`](https://numpy.org/doc/stable/reference/generated/numpy.arange.html) function."
   ]
  },
  {
   "cell_type": "code",
   "execution_count": 3,
   "metadata": {},
   "outputs": [
    {
     "name": "stdout",
     "output_type": "stream",
     "text": [
      "[0 2 4 6 8]\n"
     ]
    }
   ],
   "source": [
    "array_arange = np.arange(start = 0, stop = 10, step = 2)\n",
    "print(array_arange)"
   ]
  },
  {
   "cell_type": "markdown",
   "metadata": {},
   "source": [
    "### Creating a numpy array using linspace\n",
    "The [`np.linspace`](https://numpy.org/doc/stable/reference/generated/numpy.linspace.html) function generates an array of evenly spaced numbers over a specified range. It takes four main arguments: the start value, the end value, the number of points to generate, and whether to include the end value.\n",
    "**This is the method we will use most often in this course.**"
   ]
  },
  {
   "cell_type": "code",
   "execution_count": 4,
   "metadata": {},
   "outputs": [
    {
     "name": "stdout",
     "output_type": "stream",
     "text": [
      "[0.   0.25 0.5  0.75 1.  ]\n"
     ]
    }
   ],
   "source": [
    "# Using linspace, including the endpoint\n",
    "array_linspace = np.linspace(start = 0, stop = 1, num = 5, endpoint = True)\n",
    "print(array_linspace)"
   ]
  },
  {
   "cell_type": "markdown",
   "metadata": {},
   "source": [
    "The example above generates an array of 5 numbers on the interval [0, 1] (including both 0 and 1).\n",
    "\n",
    "If we set `endpoint = False`, the spacing of the elements in the array is changed accoridngly.\n",
    "The example below generates an array of 5 numbers on the interval [0, 1) (including 0 but not 1)."
   ]
  },
  {
   "cell_type": "code",
   "execution_count": 5,
   "metadata": {},
   "outputs": [
    {
     "name": "stdout",
     "output_type": "stream",
     "text": [
      "[0.  0.2 0.4 0.6 0.8]\n"
     ]
    }
   ],
   "source": [
    "# Now excluding the endpoint.\n",
    "array_linspace = np.linspace(start = 0, stop = 1, num = 5, endpoint = False)\n",
    "print(array_linspace)"
   ]
  },
  {
   "cell_type": "markdown",
   "metadata": {},
   "source": [
    "### Using np.zeros\n",
    "\n",
    "Sometimes, we may want to create an array where values can be input later. One of the easiest ways to do this is to use the [`np.zeros`](https://numpy.org/doc/stable/reference/generated/numpy.zeros.html) function. This function takes the shape of the array as input and returns an array of zeros with the specified shape."
   ]
  },
  {
   "cell_type": "code",
   "execution_count": 6,
   "metadata": {},
   "outputs": [
    {
     "name": "stdout",
     "output_type": "stream",
     "text": [
      "[0. 0. 0. 0. 0.]\n"
     ]
    }
   ],
   "source": [
    "array_zeros = np.zeros(shape = 5)\n",
    "print(array_zeros)"
   ]
  },
  {
   "cell_type": "markdown",
   "metadata": {},
   "source": [
    "### 2D Arrays\n",
    "\n",
    "So far we have looked at 1D numpy arrays. However in this course, we will often work with 2D arrays. Using `np.zeros`, we can create a 2D array by specifying the shape as a tuple. The example below creates a 2D array with 2 rows and 3 columns."
   ]
  },
  {
   "cell_type": "code",
   "execution_count": 7,
   "metadata": {},
   "outputs": [
    {
     "name": "stdout",
     "output_type": "stream",
     "text": [
      "[[0. 0. 0.]\n",
      " [0. 0. 0.]]\n"
     ]
    }
   ],
   "source": [
    "array_2d_zeros = np.zeros(shape = (2, 3))\n",
    "print(array_2d_zeros)"
   ]
  },
  {
   "cell_type": "markdown",
   "metadata": {},
   "source": [
    "## Exercises\n",
    "1. Create a numpy array from the list `[10, 20, 30, 40, 50]`. Print the array."
   ]
  },
  {
   "cell_type": "code",
   "execution_count": 8,
   "metadata": {},
   "outputs": [],
   "source": [
    "input_list = [10, 20, 30, 40 , 50]\n",
    "# Your code here:\n",
    "\n"
   ]
  },
  {
   "cell_type": "markdown",
   "metadata": {},
   "source": [
    "2. Create a numpy array containing 4 numbers on the interval [0, 1] (including both 0 and 1) and a second array containing 4 numbers on the interval [0, 1) (including 0 but not 1). Print both arrays."
   ]
  },
  {
   "cell_type": "code",
   "execution_count": 9,
   "metadata": {},
   "outputs": [],
   "source": [
    "# Your code here:"
   ]
  },
  {
   "cell_type": "markdown",
   "metadata": {},
   "source": [
    "3. Create a 2D numpy array of zeros with 3 rows and 4 columns. Print the array."
   ]
  },
  {
   "cell_type": "code",
   "execution_count": 10,
   "metadata": {},
   "outputs": [],
   "source": [
    "# Your code here:"
   ]
  },
  {
   "cell_type": "markdown",
   "metadata": {},
   "source": [
    "## Section 2: Indexing and Slicing\n",
    "\n",
    "Indexing and slicing numpy arrays allows you to access and modify elements of the array. This is similar to the behaviour used to slice lists in Python.\n",
    "\n",
    "### Accessing elements\n",
    "You can access elements of a numpy array using square brackets and the index of the element. **Numpy arrays are zero-indexed, meaning the first element has an index of 0.**"
   ]
  },
  {
   "cell_type": "code",
   "execution_count": 33,
   "metadata": {},
   "outputs": [
    {
     "name": "stdout",
     "output_type": "stream",
     "text": [
      "First element: 0\n",
      "Last element:  9\n"
     ]
    }
   ],
   "source": [
    "array = np.array([0, 1, 2, 3, 4, 5, 6, 7, 8, 9])\n",
    "first_element = array[0]\n",
    "last_element = array[-1]\n",
    "print(f\"First element: {first_element}\\nLast element:  {last_element}\")"
   ]
  },
  {
   "cell_type": "markdown",
   "metadata": {},
   "source": [
    "### Shape of numpy arrays\n",
    "You can get the shape of a numpy array using the `shape` attribute."
   ]
  },
  {
   "cell_type": "code",
   "execution_count": 26,
   "metadata": {},
   "outputs": [
    {
     "name": "stdout",
     "output_type": "stream",
     "text": [
      "(2, 3)\n"
     ]
    }
   ],
   "source": [
    "array = np.array([[1, 2, 3], [4, 5, 6]])\n",
    "shape = array.shape\n",
    "print(shape)"
   ]
  },
  {
   "cell_type": "markdown",
   "metadata": {},
   "source": [
    "### Slicing\n",
    "You can slice a numpy array to access a range of elements. The syntax for slicing is `array[start:stop:step]`."
   ]
  },
  {
   "cell_type": "code",
   "execution_count": 31,
   "metadata": {},
   "outputs": [
    {
     "name": "stdout",
     "output_type": "stream",
     "text": [
      "Elements from index 2 to 4:  [2 3 4]\n",
      "Every second element:        [0 2 4 6 8]\n",
      "Reversed array:              [9 8 7 6 5 4 3 2 1 0]\n"
     ]
    }
   ],
   "source": [
    "array = np.array([0, 1, 2, 3, 4, 5, 6, 7, 8, 9])\n",
    "slice_1 = array[2:5]  # Elements from index 2 to 4\n",
    "slice_2 = array[::2]  # Every second element\n",
    "slice_3 = array[::-1] # Reversed array\n",
    "print(f\"Elements from index 2 to 4:  {slice_1}\")\n",
    "print(f\"Every second element:        {slice_2}\")\n",
    "print(f\"Reversed array:              {slice_3}\")"
   ]
  },
  {
   "cell_type": "markdown",
   "metadata": {},
   "source": [
    "## Exercises\n",
    "1. Given `array_1` below, extract the elements from index 3 to 7."
   ]
  },
  {
   "cell_type": "code",
   "execution_count": 18,
   "metadata": {},
   "outputs": [],
   "source": [
    "array_1 = np.array([10, 20, 30, 40, 50, 60, 70, 80, 90, 100])\n",
    "# Your code here:\n"
   ]
  },
  {
   "cell_type": "markdown",
   "metadata": {},
   "source": [
    "2. Reverse `array_2` using slicing."
   ]
  },
  {
   "cell_type": "code",
   "execution_count": 12,
   "metadata": {},
   "outputs": [],
   "source": [
    "array_2 = np.array([1, 2, 3, 4, 5, 6, 7, 8, 9, 10])\n",
    "# Your code here:\n"
   ]
  },
  {
   "cell_type": "markdown",
   "metadata": {},
   "source": [
    "## Section 3: Array Operations\n",
    "\n",
    "Numpy arrays support a variety of operations, including element-wise operations, passing arrays into mathematical functions, and using functions like [`np.min`](https://numpy.org/doc/stable/reference/generated/numpy.amin.html), [`np.max`](https://numpy.org/doc/stable/reference/generated/numpy.amax.html) to determine the properties of the elements.\n",
    "\n",
    "### Element-wise operations\n",
    "Element-wise operations are performed on each element of the array. These work in a similar way to mathematical operations on scalars."
   ]
  },
  {
   "cell_type": "code",
   "execution_count": 35,
   "metadata": {},
   "outputs": [
    {
     "name": "stdout",
     "output_type": "stream",
     "text": [
      "Original array: [1 2 3 4 5]\n",
      "Squared array:  [ 1  4  9 16 25]\n",
      "array + 10:     [11 12 13 14 15]\n"
     ]
    }
   ],
   "source": [
    "array = np.array([1, 2, 3, 4, 5])\n",
    "array_squared = array ** 2\n",
    "array_plus_10 = array + 10\n",
    "print(f\"Original array: {array}\")\n",
    "print(f\"Squared array:  {array_squared}\")\n",
    "print(f\"array + 10:     {array_plus_10}\")"
   ]
  },
  {
   "cell_type": "markdown",
   "metadata": {},
   "source": [
    "### Passing arrays into mathematical functions\n",
    "You can pass numpy arrays into mathematical functions, which will apply the function to each element of the array.\n",
    "This works for numpy functions like [`np.sin`](https://numpy.org/doc/stable/reference/generated/numpy.sin.html), [`np.cos`](https://numpy.org/doc/stable/reference/generated/numpy.cos.html), and [`np.exp`](https://numpy.org/doc/stable/reference/generated/numpy.exp.html) as well as functions you define yourself which accept floats as input."
   ]
  },
  {
   "cell_type": "code",
   "execution_count": 38,
   "metadata": {},
   "outputs": [
    {
     "name": "stdout",
     "output_type": "stream",
     "text": [
      "Original array: [1 2 3 4 5]\n",
      "sin of array:   [ 0.84147098  0.90929743  0.14112001 -0.7568025  -0.95892427]\n"
     ]
    }
   ],
   "source": [
    "array_sin = np.sin(array)\n",
    "print(f\"Original array: {array}\")\n",
    "print(f\"sin of array:   {array_sin}\")"
   ]
  },
  {
   "cell_type": "markdown",
   "metadata": {},
   "source": [
    "### Using np.min and np.max\n",
    "The [`np.min`](https://numpy.org/doc/stable/reference/generated/numpy.amin.html) and [`np.max`](https://numpy.org/doc/stable/reference/generated/numpy.amax.html) functions return the minimum and maximum values of a numpy array, respectively."
   ]
  },
  {
   "cell_type": "code",
   "execution_count": 21,
   "metadata": {},
   "outputs": [
    {
     "name": "stdout",
     "output_type": "stream",
     "text": [
      "1 5\n"
     ]
    }
   ],
   "source": [
    "array_min = np.min(array)\n",
    "array_max = np.max(array)\n",
    "print(array_min, array_max)"
   ]
  },
  {
   "cell_type": "markdown",
   "metadata": {},
   "source": [
    "You may also find the functions [`np.sum`](https://numpy.org/doc/stable/reference/generated/numpy.sum.html), [`np.mean`](https://numpy.org/doc/stable/reference/generated/numpy.mean.html) and [`np.std`](https://numpy.org/doc/stable/reference/generated/numpy.std.html) useful."
   ]
  },
  {
   "cell_type": "markdown",
   "metadata": {},
   "source": [
    "## Exercises\n",
    "1. Given `array_3`, calculate the square of each element."
   ]
  },
  {
   "cell_type": "code",
   "execution_count": null,
   "metadata": {},
   "outputs": [],
   "source": [
    "array_3 = np.array([5, 10, 15, 20, 25])\n",
    "# Your code here:\n"
   ]
  },
  {
   "cell_type": "markdown",
   "metadata": {},
   "source": [
    "2. Find the minimum and maximum values of the 2D array `array_4`."
   ]
  },
  {
   "cell_type": "code",
   "execution_count": 14,
   "metadata": {},
   "outputs": [],
   "source": [
    "array_4 = np.array([[3, 7, 2], [8, 1, 5], [4, 6, 9]])\n",
    "# Your code here:"
   ]
  },
  {
   "cell_type": "markdown",
   "metadata": {},
   "source": [
    "**Bonus Question**\n",
    "\n",
    "3. Find the mean of the 2D array `array_4` along each row.\n",
    "\n",
    "[Hint: You may find the `axis` argument of the [`np.mean`](https://numpy.org/doc/stable/reference/generated/numpy.mean.html) function useful.]"
   ]
  },
  {
   "cell_type": "code",
   "execution_count": 39,
   "metadata": {},
   "outputs": [],
   "source": [
    "# Your code here:"
   ]
  }
 ],
 "metadata": {
  "kernelspec": {
   "display_name": "PDEs3-5FhZHto3",
   "language": "python",
   "name": "python3"
  },
  "language_info": {
   "codemirror_mode": {
    "name": "ipython",
    "version": 3
   },
   "file_extension": ".py",
   "mimetype": "text/x-python",
   "name": "python",
   "nbconvert_exporter": "python",
   "pygments_lexer": "ipython3",
   "version": "3.10.8"
  }
 },
 "nbformat": 4,
 "nbformat_minor": 2
}
