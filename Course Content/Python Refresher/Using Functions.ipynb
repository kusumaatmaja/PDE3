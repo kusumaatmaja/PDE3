{
 "cells": [
  {
   "cell_type": "markdown",
   "metadata": {},
   "source": [
    "# PDEs 3 Python Refresher\n",
    "\n",
    "## Using Functions in Python\n",
    "\n",
    "Functions are fundametnal to how we use Python as they allow us to write code that can be repeated in different scenarios.\n",
    "\n",
    "Functions take one or more values as input and return one or more values as output.\n",
    "\n",
    "Below, we define a simple function that takes two numbers as input and returns their sum."
   ]
  },
  {
   "cell_type": "code",
   "execution_count": 5,
   "metadata": {},
   "outputs": [],
   "source": [
    "def add(a, b):\n",
    "    return a + b"
   ]
  },
  {
   "cell_type": "markdown",
   "metadata": {},
   "source": [
    "Here, `def` is the keyword used to tell Python that we want to define a function.\n",
    "The function is called `add` and it takes two arguments `a` and `b`, which we put in brackets.\n",
    "You must remember to put a colon at the end of the function definition as this separates the function definition from its logic.\n",
    "\n",
    "The function returns the sum of `a` and `b` using the `return` keyword.\n",
    "\n",
    "We can then call the function by passing in two numbers as arguments, as you do with many other functions in Python."
   ]
  },
  {
   "cell_type": "code",
   "execution_count": 6,
   "metadata": {},
   "outputs": [
    {
     "name": "stdout",
     "output_type": "stream",
     "text": [
      "3\n"
     ]
    }
   ],
   "source": [
    "c = add(a = 1, b = 2)\n",
    "print(c)"
   ]
  },
  {
   "cell_type": "markdown",
   "metadata": {},
   "source": [
    "You do not have to specify the name of the arguments when you call the function, though it is good practice to do so. If you do not, the arguments are passed in the order they are defined in the function definition.\n",
    "\n",
    "\n",
    "We can also do logic within the function body, allowing us to perform more complex operations.\n",
    "For example, the function below takes two numbers as input and outputs the following expression:\n",
    "\n",
    "$$\n",
    "\\frac{a^2 + b^2}{a + b}\n",
    "$$"
   ]
  },
  {
   "cell_type": "code",
   "execution_count": 7,
   "metadata": {},
   "outputs": [
    {
     "name": "stdout",
     "output_type": "stream",
     "text": [
      "1.6666666666666667\n"
     ]
    }
   ],
   "source": [
    "def fractional(a, b):\n",
    "    numerator = a ** 2 + b ** 2\n",
    "    denominator = a + b\n",
    "    return numerator / denominator\n",
    "\n",
    "c = fractional(1, 2)\n",
    "print(c)"
   ]
  },
  {
   "cell_type": "code",
   "execution_count": 11,
   "metadata": {},
   "outputs": [],
   "source": [
    "# Run this cell before continuing.\n",
    "import numpy as np"
   ]
  },
  {
   "cell_type": "markdown",
   "metadata": {},
   "source": [
    "## Exercises\n",
    "\n",
    "1. Write a function called `calc_product` which takes two numbers as input and returns the product of the two numbers."
   ]
  },
  {
   "cell_type": "code",
   "execution_count": null,
   "metadata": {},
   "outputs": [],
   "source": [
    "# Your code here"
   ]
  },
  {
   "cell_type": "code",
   "execution_count": null,
   "metadata": {},
   "outputs": [],
   "source": [
    "# Some tests to check your function works correctly.\n",
    "# Run this cell.\n",
    "\n",
    "assert type(calc_product(2.,3.)) == float, \"The product of two floats (decimal numbers) should be a float.\"\n",
    "assert np.isclose(calc_product(2,3), 6), \"Check to ensure your function returns the product of the two numbers passed into it.\""
   ]
  },
  {
   "cell_type": "markdown",
   "metadata": {},
   "source": [
    "2. Write a function called `calc_sum_list` that takes a list of numbers as input and returns the sum of the numbers in the list."
   ]
  },
  {
   "cell_type": "code",
   "execution_count": null,
   "metadata": {},
   "outputs": [],
   "source": [
    "# Your code here:\n"
   ]
  },
  {
   "cell_type": "code",
   "execution_count": null,
   "metadata": {},
   "outputs": [],
   "source": [
    "# Some tests to check your function works correctly.\n",
    "# Run this cell.\n",
    "\n",
    "assert type(calc_sum_list([1,2,3,4,5])) == int, \"The sum of a list of numbers should be an integer.\"\n",
    "assert calc_sum_list([1,2,3,4,5]) == 15, \"Check to ensure your function returns the sum of all the numbers in the list.\""
   ]
  },
  {
   "cell_type": "markdown",
   "metadata": {},
   "source": [
    "3. Write a function called `quadratic` to return the value of the quadratic formula for a given set of coefficients $a$, $b$ and $c$.\n",
    "\n",
    "$$\n",
    "x = \\frac{-b \\pm \\sqrt{b^2 - 4ac}}{2a}\n",
    "$$\n",
    "\n",
    "It should return a tuple of the two possible values of $x$.\n",
    "\n",
    "[Hint: You may find the function [`np.sqrt`](https://numpy.org/doc/stable/reference/generated/numpy.sqrt.html) useful.]\n",
    "\n",
    "**Extension:**\n",
    "\n",
    "If the discriminant $b^2 - 4ac$ is negative, the function should return `None`."
   ]
  },
  {
   "cell_type": "code",
   "execution_count": 12,
   "metadata": {},
   "outputs": [],
   "source": [
    "# Your code here:\n",
    "\n"
   ]
  },
  {
   "cell_type": "code",
   "execution_count": 14,
   "metadata": {},
   "outputs": [],
   "source": [
    "# Some tests to check your function works correctly.\n",
    "# Run this cell.\n",
    "\n",
    "assert np.isclose(quadratic(a=1, b=1, c=0), [0, -1]).all() or np.isclose(quadratic(a=1, b=1, c=0), [-1, 0]).all(), \"Check to ensure you have implemented the quadratic formula correctly.\""
   ]
  },
  {
   "cell_type": "markdown",
   "metadata": {},
   "source": [
    "## Some comments on notation\n",
    "\n",
    "Above, we have defined functions in quite a basic way, by only specifying the input arguments and the return value. This is fine for a basic function, though you may sometimes see something a little more complex:"
   ]
  },
  {
   "cell_type": "code",
   "execution_count": 15,
   "metadata": {},
   "outputs": [],
   "source": [
    "def add_numbers(a: float = 1.0, b: float = 2.0) -> float:\n",
    "    \"\"\"A function to take two numbers and return their sum.\n",
    "    \n",
    "    Parameters\n",
    "    ----------\n",
    "    \n",
    "    a : float\n",
    "        The first number to be added.\n",
    "    \n",
    "    b : float\n",
    "        The second number to be added.\n",
    "    \n",
    "    Returns\n",
    "    -------\n",
    "    \n",
    "    float\n",
    "        The sum of a and b.\n",
    "    \"\"\"\n",
    "    return a + b"
   ]
  },
  {
   "cell_type": "markdown",
   "metadata": {},
   "source": [
    "In this example, we have specified the type of the input arguments and the return value. In this case, all three are floats (decimal numbers).\n",
    "We have also given the input arguments default values, so if the function is called without any arguments, it will use the default values of 1.0 and 2.0.\n",
    "Finally, a docstring has been added to decribe what the function does and what the input and output values are. In this case, it is fairly obvious what the function does, but in more complex functions, this can be very useful, particularly if other people are going to use your code."
   ]
  }
 ],
 "metadata": {
  "kernelspec": {
   "display_name": "PDEs3-5FhZHto3",
   "language": "python",
   "name": "python3"
  },
  "language_info": {
   "codemirror_mode": {
    "name": "ipython",
    "version": 3
   },
   "file_extension": ".py",
   "mimetype": "text/x-python",
   "name": "python",
   "nbconvert_exporter": "python",
   "pygments_lexer": "ipython3",
   "version": "3.10.8"
  }
 },
 "nbformat": 4,
 "nbformat_minor": 2
}
