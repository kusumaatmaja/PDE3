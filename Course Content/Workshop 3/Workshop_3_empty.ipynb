{
 "cells": [
  {
   "cell_type": "markdown",
   "metadata": {},
   "source": [
    "# PDEs 3 Workshop 3\n",
    "\n",
    "Welcome to the third workshop of the PDE 3 (Numerical) course!\n",
    "\n",
    "## In this workshop:\n",
    "\n",
    "* Matrix Methods\n",
    "* Grid Convergence"
   ]
  },
  {
   "cell_type": "code",
   "execution_count": null,
   "metadata": {},
   "outputs": [],
   "source": [
    "# Run this cell to import the required modules.\n",
    "# Do this before you write any code!\n",
    "\n",
    "import numpy as np\n",
    "import scipy.sparse as sp\n",
    "import matplotlib.pyplot as plt\n",
    "from matplotlib.colors import Normalize\n",
    "import matplotlib.cm as cm\n",
    "from scipy.optimize import curve_fit"
   ]
  },
  {
   "cell_type": "markdown",
   "metadata": {},
   "source": [
    "Here, we implement the `Grid` class which we have used before in Workshop 2. We will need this later.\n",
    "\n",
    "You don't need to understand the code written here but you can take a look if you would like to."
   ]
  },
  {
   "cell_type": "code",
   "execution_count": null,
   "metadata": {},
   "outputs": [],
   "source": [
    "# Run this cell before continuing\n",
    "class Grid:\n",
    "    \"\"\"A class defining a 2D grid on which we can implement the Jacobi, SOR and matrix schemes.\"\"\"\n",
    "\n",
    "    def __init__(self, ni: int, nj: int):\n",
    "        self.ni = ni\n",
    "        self.nj = nj\n",
    "        self.origin = (0.0, 0.0)\n",
    "        self.extent = (1.0, 1.0)\n",
    "\n",
    "        self.u = np.zeros((ni, nj))\n",
    "        self.x = np.zeros((ni, nj))\n",
    "        self.y = np.zeros((ni, nj))\n",
    "    \n",
    "    def set_origin(self, x0: float, y0: float):\n",
    "        \"\"\"Set the origin of the grid.\"\"\"\n",
    "        self.origin = (x0, y0)\n",
    "\n",
    "    def set_extent(self, x1: float, y1: float):\n",
    "        \"\"\"Set the extent of the grid.\"\"\"\n",
    "        self.extent = (x1, y1)\n",
    "\n",
    "    def Delta_x(self) -> float:\n",
    "        \"\"\"The spacing in the x-direction.\"\"\"\n",
    "        return (self.extent[0] - self.origin[0]) / (self.ni - 1)\n",
    "    \n",
    "    def Delta_y(self) -> float:\n",
    "        \"\"\"The spacing in the y-direction.\"\"\"\n",
    "        return (self.extent[1] - self.origin[1]) / (self.nj - 1)\n",
    "    \n",
    "    def generate(self, Quiet: bool = True):\n",
    "        '''generate a uniformly spaced grid covering the domain from the\n",
    "        origin to the extent.  We are going to do this using linspace from\n",
    "        numpy to create lists of x and y ordinates and then the meshgrid\n",
    "        function to turn these into 2D arrays of grid point ordinates.'''\n",
    "        x_ord = np.linspace(self.origin[0], self.extent[0], self.ni, endpoint=True)\n",
    "        y_ord = np.linspace(self.origin[1], self.extent[1], self.nj, endpoint=True)\n",
    "        self.x, self.y = np.meshgrid(x_ord, y_ord)\n",
    "        self.x = np.transpose(self.x)\n",
    "        self.y = np.transpose(self.y)\n",
    "\n",
    "        if not Quiet:\n",
    "            print(self)\n",
    "    \n",
    "    def __str__(self):\n",
    "        \"\"\"A quick function to tell us about the grid. This will be what is displayed if you try to print the Grid object.\"\"\"\n",
    "        return f\"Grid Object: Uniform {self.ni}x{self.nj} grid from {self.origin} to {self.extent}.\""
   ]
  },
  {
   "cell_type": "markdown",
   "metadata": {},
   "source": [
    "# Section 1:\n",
    " In this question, we will use the Laplace equation to model the electric potential in a region of space surrounded by charged plates. The Laplace equation is given by:\n",
    "\n",
    "$$\n",
    "V_{xx} + V_{yy} = 0.\n",
    "$$\n",
    "\n",
    "As explained in the lectures, we can start with the central finite difference approximation of the Laplace equation:\n",
    "$$V_{i,j}=\\frac{V_{i-1,j}+V_{i+1,j}+\\beta^2\\left(V_{i,j-1}+V_{i,j+1}\\right)}{2(1+\\beta^2)}.$$\n",
    "Here, we have taken a more general case where $\\beta=\\frac{\\Delta x}{\\Delta y}$.\n",
    "In the lectures, the case where $\\beta=1$ was considered.\n",
    "\n",
    "### a)\n",
    "Re-arrange (by hand) the finite difference approximation into the form \n",
    "$$r_y V_{i,j-1} + r_x V_{i-1,j} +  V_{i,j}  + r_x V_{i+1,j}  + r_y V_{i,j+1} = 0$$\n",
    "and hence find the coefficients $r_x$ and $r_y$."
   ]
  },
  {
   "cell_type": "markdown",
   "metadata": {},
   "source": [
    "<font color='orange'>Your answer goes here. Double-click the cell to modify it.</font>"
   ]
  },
  {
   "cell_type": "markdown",
   "metadata": {},
   "source": [
    "### b)\n",
    "\n",
    "Create a function called `determine_coefficients` that takes in a `Grid` object and returns the coefficients $r_x$ and $r_y$ as a tuple.\n",
    "\n",
    "[Hint: You can use the `Grid.Delta_x()` and `Grid.Delta_y()` methods to find the grid spacing. To return a tuple, you can use a round bracket, given by `return (r_x, r_y)`]"
   ]
  },
  {
   "cell_type": "code",
   "execution_count": null,
   "metadata": {},
   "outputs": [],
   "source": [
    "def determine_coefficients(mesh: Grid) -> tuple[float, float]:\n",
    "    \"\"\"Determine the coefficients r_x and r_y to assemble the matrix for the Laplace equation.\n",
    "\n",
    "    Parameters\n",
    "    ----------\n",
    "\n",
    "    mesh : Grid\n",
    "        The mesh on which we are solving the Laplace equation.\n",
    "    \n",
    "    Returns\n",
    "    -------\n",
    "\n",
    "    (r_x, r_y) : tuple[float, float]\n",
    "        The coefficients r_x and r_y required to assemble the matrix.\n",
    "    \"\"\"\n",
    "    # Your code here:\n",
    "    \n",
    "    return (r_x, r_y)"
   ]
  },
  {
   "cell_type": "code",
   "execution_count": null,
   "metadata": {},
   "outputs": [],
   "source": [
    "### BEGIN TESTS ###\n",
    "\n",
    "test_mesh1 = Grid(5, 5)\n",
    "assert np.isclose(determine_coefficients(test_mesh1), (-0.25, -0.25)).all(), \"\"\"Check your implementation of the determine_coefficients function. If the grid spacing is uniform, the coefficients should be -0.25 for both r_x and r_y.\"\"\"\n",
    "\n",
    "test_mesh2 = Grid(10, 5)\n",
    "assert not np.isclose(determine_coefficients(test_mesh2), (-0.08247422680412371, -0.4175257731958763)).all(), \"\"\"Check to ensure that you have specified r_x and r_y the correct way around.\"\"\"\n",
    "assert np.isclose(determine_coefficients(test_mesh2), (-0.4175257731958763, -0.08247422680412371)).all(), \"\"\"Check your implementation of the determine_coefficients function for when the grid spacing is not uniform.\"\"\"\n",
    "\n",
    "### END TESTS ###"
   ]
  },
  {
   "cell_type": "markdown",
   "metadata": {},
   "source": [
    "We can set up a matrix equation \n",
    "\n",
    "$$\n",
    "A\\mathbf{x} = \\mathbf{b}\n",
    "$$\n",
    "\n",
    "to solve for the potential at each point in the grid using the system of equations derived in part a).\n",
    "\n",
    "The following diagram shows a uniformly spaced, $5\\times5$ grid of $V$ values on which we can solve the Laplace equation.\n",
    "\n",
    "Boundary conditions are stored in the outermost entries (black nodes with a light grey background); the bulk nodes are those in the region with a blue background (the nodes themselves are either white or red). \n",
    "\n",
    "The grid also shows the stencil for the Laplacian operator, shown in red.\n",
    "\n",
    "Following the Python notation, the bottom left V value is <code>V[0,0]</code> and the top right V value is  <code>V[4,4]</code>.\n",
    "\n",
    "<div>\n",
    "<img src=\"Grid.svg\" width=\"500\"/>\n",
    "</div>\n",
    "\n",
    "The 5x5 grid above has 9 bulk nodes, resulting in a system of 9 equations. Therefore, the matrix $A$ will be a 9x9 matrix. \n",
    "However, many of these matrix elements follow a similar pattern.\n",
    "As such, there are only three distinct cases for rows in the matrix $A$ and the vector $b$.\n",
    "These correspond to:\n",
    "* Corner nodes, they have 2 neighbours which are boundary nodes,\n",
    "* Edge nodes, they have 1 neighbour which is a boundary node,\n",
    "* Interior nodes, they don't have any neighbour which is a boundary node.\n",
    "\n",
    "### c)\n",
    "Starting with the first bulk node (shown in white), write the $k$ index values for each bulk node and state whether they correspond to a corner, edge or interior node. Since there are 9 bulk nodes, $k$ should run from 0 to 8."
   ]
  },
  {
   "cell_type": "markdown",
   "metadata": {},
   "source": [
    "<font color='orange'>Your answer goes here. Double-click the cell to modify it.</font>\n",
    "\n"
   ]
  },
  {
   "cell_type": "markdown",
   "metadata": {},
   "source": [
    "### d)\n",
    "\n",
    "Write down the rows of the matrix $A$ and the elements of the vector $b$ for each of a corner, edge and interior node. "
   ]
  },
  {
   "cell_type": "markdown",
   "metadata": {},
   "source": [
    "<font color='orange'>Your answer goes here. Double-click the cell to modify it.</font>\n"
   ]
  },
  {
   "cell_type": "markdown",
   "metadata": {},
   "source": [
    "### e)\n",
    "Below is a template for a function to assemble the matrix $A$ and the vector $b$ to solve the Laplace equation for a given mesh. Complete the function by filling in two missing parts. First, you will need to specify the size of the matrix ``N``. Second, you need to code how the north and south boundaries are handled. For inspiration, you should check how the east and west boundaries are done. The function below works with Dirichlet boundary conditions."
   ]
  },
  {
   "cell_type": "code",
   "execution_count": null,
   "metadata": {},
   "outputs": [],
   "source": [
    "def assemble_matrix(mesh: Grid):\n",
    "    if type(mesh) != Grid:\n",
    "        raise TypeError(\"Ensure that the mesh you input to the `assemble_matrix` function is made using the Grid class.\")\n",
    "\n",
    "    # Your Code here:\n",
    "    # Determine the size of the matrix A, you should change 0 to the right size\n",
    "    N = 0\n",
    "    \n",
    "    if N == 0:\n",
    "        raise NotImplementedError(\"You need to specify what N should be. N = 0 is just a placeholder.\")\n",
    "\n",
    "    # Create the matrix and calculate the coefficients\n",
    "    # We store A as a sparse matrix to save memory\n",
    "    A_mat = sp.lil_matrix((N, N), dtype=float)\n",
    "    b_vec = np.zeros(N, dtype = float)\n",
    "\n",
    "    R_x, R_y = determine_coefficients(mesh)\n",
    "\n",
    "    # Assemble the matrix A and the vector b\n",
    "\n",
    "    for j in range(1, mesh.nj-1):\n",
    "        for i in range(1, mesh.ni-1):\n",
    "            \n",
    "            # calculate the k index\n",
    "            k = (i-1) + (mesh.ni-2)*(j-1)\n",
    "            \n",
    "            # leading diagonal coeficient\n",
    "            A_mat[k,k]=1\n",
    "                \n",
    "            # East boundary\n",
    "            if i<mesh.ni-2:\n",
    "                A_mat[k,k+1]=R_x\n",
    "            else:\n",
    "                b_vec[k] += -R_y*mesh.u[i+1,j]\n",
    "                \n",
    "            # West boundary\n",
    "            if i>1:\n",
    "                A_mat[k,k-1]=R_x\n",
    "            else:\n",
    "                b_vec[k] += -R_y*mesh.u[i-1,j]\n",
    "\n",
    "            # Your code here:\n",
    "\n",
    "            # Delete the line below.\n",
    "            raise NotImplementedError(\"You need to implement the handling of the North and South boundaries.\")\n",
    "\n",
    "\n",
    "\n",
    "    return A_mat, b_vec"
   ]
  },
  {
   "cell_type": "code",
   "execution_count": null,
   "metadata": {},
   "outputs": [],
   "source": [
    "### BEGIN TESTS ###\n",
    "\n",
    "test_mesh = Grid(3,3)\n",
    "A, b = assemble_matrix(test_mesh)\n",
    "assert np.isclose(A.todense(), np.array([[1.]])).all(), \"Check your implementation of the assemble_matrix function. For a 3x3 grid, the matrix should be [[1.]]\"\n",
    "test_mesh2 = Grid(5,5)\n",
    "A2, b2 = assemble_matrix(test_mesh2)\n",
    "assert A2.shape == (9, 9), \"Check to ensure that the matrix you are producing is the correct size. It should have one row and column for each interior point in the grid.\"\n",
    "assert np.isclose(A2.todense(), np.array([[1., -0.25, 0., -0.25, 0., 0., 0., 0., 0.],\n",
    "                                          [-0.25, 1., -0.25, 0., -0.25, 0., 0., 0., 0.],\n",
    "                                          [0., -0.25, 1., 0., 0., -0.25, 0., 0., 0.],\n",
    "                                          [-0.25, 0., 0., 1., -0.25, 0., -0.25, 0., 0.],\n",
    "                                          [0., -0.25, 0., -0.25, 1., -0.25, 0., -0.25, 0.],\n",
    "                                          [0., 0., -0.25, 0., -0.25, 1., 0., 0., -0.25],\n",
    "                                          [0., 0., 0., -0.25, 0., 0., 1., -0.25, 0.],\n",
    "                                          [0., 0., 0., 0., -0.25, 0., -0.25, 1., -0.25],\n",
    "                                          [0., 0., 0., 0., 0., -0.25, 0., -0.25, 1.]])).all(), \"Check your implementation of the assemble_matrix function\"\n",
    "\n",
    "### END TESTS ###"
   ]
  },
  {
   "cell_type": "markdown",
   "metadata": {},
   "source": [
    "Now, we produce a spy plot of the matrix $A$ for a $5\\times5$ grid used in parts c) and d).\n",
    "Check to see whether the matrix assembled here matches with what you found in part d)."
   ]
  },
  {
   "cell_type": "code",
   "execution_count": null,
   "metadata": {},
   "outputs": [],
   "source": [
    "### BEGIN TESTS ###\n",
    "\n",
    "# First we set up the grid and assemble the matrix.\n",
    "test_mesh = Grid(5,5)\n",
    "test_mesh.u[0,:] = 1\n",
    "test_mesh.u[-1,:] = 1\n",
    "test_mesh.u[:,0] = 1\n",
    "test_mesh.u[:,-1] = 1\n",
    "A, b = assemble_matrix(test_mesh)\n",
    "\n",
    "# Then we make the figure and make it look nice.\n",
    "# A similar effect can be achived using plt.spy() but this method allows you to see the values of each matrix element.\n",
    "A = A.todense()\n",
    "\n",
    "supmax = np.max([np.max(A), np.max(b), -np.min(A), -np.min(b)])\n",
    "nrom = Normalize(vmin=-supmax, vmax=supmax)\n",
    "\n",
    "fig, axs = plt.subplots(1,2,width_ratios=(1+1.85*A.shape[0], 2))\n",
    "\n",
    "axs[0].imshow(A, aspect='equal', cmap=cm.RdBu, norm=nrom)\n",
    "axs[1].imshow(np.transpose(np.array([b])), aspect='equal', cmap=cm.RdBu, norm=nrom)\n",
    "\n",
    "plt.colorbar(cm.ScalarMappable(norm=nrom, cmap=cm.RdBu), ax=axs, orientation='horizontal', label='Matrix Value')\n",
    "\n",
    "axs[1].set_xticks([])\n",
    "axs[0].set_title(\"$A$\")\n",
    "axs[1].set_title(\"$b$\")\n",
    "\n",
    "\n",
    "\n",
    "plt.show()\n",
    "### END TESTS ###"
   ]
  },
  {
   "cell_type": "markdown",
   "metadata": {},
   "source": [
    "Below, we set up a mesh to solve the Laplace equation to determine the electric potential $V(x,y)$ for a 1m x 1m region of space surrounded by charged plates.\n",
    "The plates are held at the following potentials:\n",
    "\n",
    "- Left and right plate: $V=1$\n",
    "- Bottom plate: $V=-1$\n",
    "- Top plate: $V=0$\n",
    "\n",
    "We also define a small helper function ``solve_system()`` which unpacks the results of the matrix and puts them back into the grid.\n",
    "Run the cell below to continue."
   ]
  },
  {
   "cell_type": "code",
   "execution_count": null,
   "metadata": {},
   "outputs": [],
   "source": [
    "matrix_mesh = Grid(201,201)\n",
    "matrix_mesh.generate(Quiet=True)\n",
    "matrix_mesh.u[0,:] = 1\n",
    "matrix_mesh.u[-1,:] = 1\n",
    "matrix_mesh.u[:,0] = -1\n",
    "matrix_mesh.u[:,-1] = 0\n",
    "\n",
    "def solve_system(mesh: Grid, A: sp._lil.lil_matrix , b: np.ndarray) -> None:\n",
    "    \"\"\"A helper function to solve the matrix that we have assembled and then unpack the values back into the grid.\n",
    "    The unpacking is basically the same as what you did in part c) but in reverse this time.\n",
    "    \n",
    "    Parameters\n",
    "    ---------\n",
    "\n",
    "    mesh: Grid\n",
    "        The mesh that we are solving the Laplace equation on.\n",
    "        The solved system will be unpacked back into ``mesh.u``.\n",
    "\n",
    "    A: scipy.sparse._lil.lil_matrix\n",
    "        The ``A`` matrix that we have assembled (in sparse form to save memory).\n",
    "    \n",
    "    b: np.ndarray\n",
    "        The ``b`` vector that we have assembled.\n",
    "\n",
    "    \"\"\"\n",
    "\n",
    "    # We start by solving using the Biconjugate Gradient Stabilised Iteration to solve our matrix equation.\n",
    "    # You don't need to know how this iteration works.\n",
    "    \n",
    "    x, _ = sp.linalg.bicgstab(A,b,atol=0.5e-12)\n",
    "\n",
    "    # Now we unpack x back into our original mesh.\n",
    "\n",
    "    for j in range(1, mesh.nj-1):\n",
    "        for i in range(1, mesh.ni-1):\n",
    "            k = (i-1) + (mesh.ni-2)*(j-1)\n",
    "            mesh.u[i,j]=x[k]"
   ]
  },
  {
   "cell_type": "markdown",
   "metadata": {},
   "source": [
    "### f)\n",
    "\n",
    "Set up the matrix $A$ and vector $\\mathbf{b}$ for this system using `assemble_matrix` function. Solve to find the electric potential $V(x,y)$ using the function `solve_system`.\n",
    "Finally, plot $V(x,y)$.\n",
    "\n",
    "If you have not been able to complete the ``assemble_matrix()`` function, uncomment the line below that says `from entrypoint import assemble_matrix` to import a completed version."
   ]
  },
  {
   "cell_type": "code",
   "execution_count": null,
   "metadata": {},
   "outputs": [],
   "source": [
    "# from entrypoint import assemble_matrix\n",
    "\n",
    "# Your code here:\n"
   ]
  },
  {
   "cell_type": "markdown",
   "metadata": {},
   "source": [
    "# Section 2: Grid Convergence\n",
    "\n",
    "In this section, we will explore the effects of mesh size on the convergence of the solution to the Laplace equation.\n",
    "\n",
    "To do this, we will use the example provided in Lecture 4:\n",
    "\n",
    "$$\n",
    "u_{xx} + u_{yy} = 0\n",
    "$$\n",
    "\n",
    "with the boundary conditions:\n",
    "\n",
    "$$\n",
    "u(x,0) = 0   \\;\\;\\;\\;\\;\\;  {\\rm for \\;}  0 \\le x \\le 2 \n",
    "$$\n",
    "$$\n",
    "u(x,1) = 0  \\;\\;\\;\\;\\;\\;   {\\rm for \\;}  0 \\le x \\le 2\n",
    "$$\n",
    "$$\n",
    "u(0,y) = 0  \\;\\;\\;\\;\\;\\;   {\\rm for \\;}  0 \\le y \\le 1\n",
    "$$\n",
    "$$\n",
    "u(2,y) = \\sin (2\\pi y)  \\;\\;\\;\\;\\;\\;  {\\rm for \\;}  0 \\le y \\le 1\n",
    "$$\n",
    "\n",
    "\n",
    "To enable comparison between different grid sizes, we define the following quantity:\n",
    "\n",
    "$$\n",
    "U = \\int_0^1 \\int_0^2 u(x,y) \\, dx \\, dy\n",
    "$$\n",
    "\n",
    "which gives us a single number to compare the solutions.\n",
    "\n",
    "In the cell below, we provide a list and two numpy arrays.\n",
    "These contain the sizes of each grid, the grid spacing and the values of $U$ respectively.\n"
   ]
  },
  {
   "cell_type": "code",
   "execution_count": null,
   "metadata": {},
   "outputs": [],
   "source": [
    "# Run this cell to continue; you do not need to modify it.\n",
    "\n",
    "grid_sizes = [(1281,641), (641,321), (321,161), (161,81), (81,41), (41,21), (21,11), (11,6)]\n",
    "grid_spacings = np.array([0.00156, 0.00313, 0.00625, 0.0125, 0.025, 0.05, 0.1, 0.2])\n",
    "Us = np.array([0.0401, 0.0405, 0.0413, 0.0429, 0.0464, 0.0538, 0.0710, 0.112])"
   ]
  },
  {
   "cell_type": "markdown",
   "metadata": {},
   "source": [
    "There are two ways in which the apparent order of convergence can be calculated.\n",
    "\n",
    "The first (easier) is to use the formula:\n",
    "\n",
    "$$\n",
    "p=\\ln \\left(\\frac{U_3-U_2}{U_2-U_1}\\right) / \\ln (\\frac{\\Delta x_2}{\\Delta x_1})\n",
    "$$\n",
    "with $\\Delta x_1 < \\Delta x_2$, on the finest three grids.\n",
    "\n",
    "\n",
    "The second (slightly more involved method) is to fit \n",
    "\n",
    "$$\n",
    "U(\\Delta x) = U(\\Delta x \\rightarrow 0) + C (\\Delta x)^p\n",
    "$$\n",
    "to the data, with $U(\\Delta x \\rightarrow 0)$, $C$ and $p$ as the fitting parameters.\n",
    "\n",
    "Implement one of these methods below to determine the order of convergence. If you choose the second approach, you may find the python function `curve_fit` useful."
   ]
  },
  {
   "cell_type": "code",
   "execution_count": null,
   "metadata": {},
   "outputs": [],
   "source": [
    "# Your code here:\n"
   ]
  },
  {
   "cell_type": "markdown",
   "metadata": {},
   "source": [
    "Using Richardson extrapolation, we can find that $U(\\Delta x \\rightarrow 0) = 0.0398$.\n",
    "\n",
    "The Grid Convergence Index (GCI) is given by:\n",
    "\n",
    "$$\n",
    "GCI_{i,i+1} = \\dfrac{F_s |\\epsilon_{i,i+1}|}{r^p - 1}\n",
    "$$\n",
    "\n",
    "where $\\epsilon_{i,i+1} = \\dfrac{U(\\Delta x_{i+1})-U(\\Delta x_{i})}{U(\\Delta x_{i})}$, $F_s=1.25$ is the safety factor, $r=\\dfrac{\\Delta x_{i+1}}{\\Delta x_{i}}$ is the ratio of the grid spacings and $p$ is the order of convergence.\n",
    "\n",
    "\n",
    "Three successive meshes are considered to be in the asymptotic range when\n",
    "\n",
    "$$\n",
    "\\dfrac{GCI_{i+1,i+2}}{r^p GCI_{i,i+1}} \\approx 1\n",
    "$$\n",
    "\n",
    "\n",
    "### b)\n",
    "\n",
    "Determine the Grid Convergence Index for each pair of successive grids and hence determine which grids are in the asymptotic range."
   ]
  },
  {
   "cell_type": "code",
   "execution_count": null,
   "metadata": {},
   "outputs": [],
   "source": [
    "# Your code here:\n",
    "\n"
   ]
  }
 ],
 "metadata": {
  "kernelspec": {
   "display_name": "PDEs3-5FhZHto3",
   "language": "python",
   "name": "python3"
  },
  "language_info": {
   "codemirror_mode": {
    "name": "ipython",
    "version": 3
   },
   "file_extension": ".py",
   "mimetype": "text/x-python",
   "name": "python",
   "nbconvert_exporter": "python",
   "pygments_lexer": "ipython3",
   "version": "3.10.8"
  }
 },
 "nbformat": 4,
 "nbformat_minor": 4
}
