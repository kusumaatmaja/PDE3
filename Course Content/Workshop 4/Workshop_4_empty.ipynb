{
 "cells": [
  {
   "cell_type": "markdown",
   "metadata": {},
   "source": [
    "# PDEs 3 Workshop 4\n",
    "\n",
    "Welcome to the fourth workshop of the PDE 3 (Numerical) course.\n",
    "\n",
    "## In this Workshop:\n",
    "- The Cranck-Nicolson method\n",
    "- Bonus question: Comparing flow in different materials\n"
   ]
  },
  {
   "cell_type": "code",
   "execution_count": null,
   "metadata": {},
   "outputs": [],
   "source": [
    "# Run this cell before continuing.\n",
    "import numpy as np\n",
    "import matplotlib.pyplot as plt\n",
    "\n",
    "from matplotlib.colors import Normalize\n",
    "import matplotlib.cm as cm"
   ]
  },
  {
   "cell_type": "markdown",
   "metadata": {},
   "source": [
    "## Crank-Nicolson method:\n",
    "\n",
    "Here we will use the Crank-Nicolson method to solve the transient diffusion equation.\n",
    "This governs the flow of water in a porous medium, such as a filter bed, and is given by:\n",
    "\n",
    "$$ \\dfrac{S}{T}\\dfrac{\\partial h}{\\partial t}+\\dfrac{R}{T}=\\dfrac{\\partial^2 h}{\\partial x^2},$$\n",
    "\n",
    "where $h$ is the height of the hydraulic head (the water level), $T$ is the transmissivity of the media, $S$ is the storage coefficient (the volume of liquid stored per cubic meter of media per meter of pressure head), and $R$ is recharge rate (a source term representing injection of liquid into the media)\n",
    "subject to certain boundary conditions. For simplicity, we will only consider the case where $R=0$ in this workshop.\n",
    "\n",
    "In all cases the water level is initially uniform with a height of 1.6 m, and the filter bed is 50 m long. Furthermore, the outlet pipe is set at $H_0 = 1.0$ m above the bottom of the bed. The pipe is sufficiently large to handle the maximum flow rate out of the bed. "
   ]
  },
  {
   "cell_type": "markdown",
   "metadata": {},
   "source": [
    "We can write the Crank-Nicholson scheme for this problem in the finite difference form as:\n",
    "\n",
    "$$\\dfrac{h_i^{n+1}-h_i^n}{\\Delta t} = \\kappa \\left[ \\dfrac{h_{i-1}^{n+1}-2h_i^{n+1}+h_{i+1}^{n+1}}{2\\Delta x^2} + \\dfrac{h_{i-1}^{n}-2h_i^{n}+h_{i+1}^{n}}{2\\Delta x^2} \\right] $$\n",
    "\n",
    "where $h_i^n$ is the hydraulic head at position $x_i$ and time $t_n$, and $\\kappa = \\dfrac{T}{S}$.\n",
    "\n",
    "The setup and stencil for this problem is shown below:\n",
    "\n",
    "<div>\n",
    "<img src=\"1DGrid.png\" width=\"750\"/>\n",
    "</div>\n",
    "\n",
    "\n",
    "In the lectures, we have shown that we can write the Crank-Nicholson scheme as a matrix equation. This is very similar to the matrix method that we used to solve the Laplace equation in Workshop 3. In this workshop, for better clarity on how we will implement the scheme, we will write the matrix equation as:\n",
    "\n",
    "$$\\mathbf{A}\\mathbf{h}^{n+1}=\\mathbf{B}\\mathbf{h}^n + \\mathbf{b},$$\n",
    "where $\\mathbf{A}$ and $\\mathbf{B}$ are matrices which control the iteration and $\\mathbf{b}$ is a vector that depends on the boundary conditions. In this notation, on the right hand side, we have split contributions that correspond to the boundary conditions ($\\mathbf{b}$) and from other nodes at time step $n$ ($\\mathbf{B}\\mathbf{h}^n$). Note that in the lectures, we have lumped everything on the right hand side."
   ]
  },
  {
   "cell_type": "markdown",
   "metadata": {},
   "source": [
    "### a)\n",
    "\n",
    "For the interior grid points, away from the boundaries, the finite difference approximation of the Crank-Nicolson scheme can be rearranged as \n",
    "\n",
    "$$-r_xh_{i-1}^{n+1}+ (2+2r_x) h_i^{n+1}-r_xh_{i+1}^{n+1} = r_xh_{i-1}^{n}+ (2-2r_x) h_i^{n}+r_xh_{i+1}^{n},$$\n",
    "\n",
    "where $r_x=\\dfrac{\\kappa \\Delta t}{\\Delta x^2}$.\n",
    "\n",
    "At $x = 0$, we have a Neumann boundary condition, $\\dfrac{\\partial h}{\\partial x}=0$ and at $x = 50$, we have a Dirichlet boundary condition, $h=H_0$. Substitute these boundary conditions into the above equation, and find the form of the simultaneous equations for those grid points neighbouring the boundary nodes (i.e., $i = 1$ and $i = N-2$).\n",
    "\n",
    "[**Hint:** You will need to use the central difference scheme to approximate the derivative for the Neumann boundary condition.]"
   ]
  },
  {
   "cell_type": "markdown",
   "metadata": {},
   "source": [
    "<font color='orange'>Your answer goes here. Double-click the cell to modify it.</font>\n"
   ]
  },
  {
   "cell_type": "markdown",
   "metadata": {},
   "source": [
    "### b)\n",
    "\n",
    "Write down the elements of $A$, $B$ and $\\mathbf{b}$ for the interior grid points and those neighbouring boundary nodes, i.e., consider $i = 1$, $1<i<N-2$, and $i = N-2$. At this point, it is useful to introduce a $k$-index that excludes the boundary nodes and only runs on the unknown grid points, such that $k = i-1$ (see the diagram provided above). The $k$ index is used to place elements into $A$, $B$ and $\\mathbf{b}$."
   ]
  },
  {
   "cell_type": "markdown",
   "metadata": {},
   "source": [
    "<font color='orange'>Your answer goes here. Double-click the cell to modify it.</font>\n"
   ]
  },
  {
   "cell_type": "markdown",
   "metadata": {},
   "source": [
    "Now that we have worked out the form of the matrix equation we can write it in code to find the solution to the transient diffusion equation.\n",
    "\n",
    "Below, we implement the ``Grid_1D`` class. This is very similar to the ``Grid`` class that we have used in previous workshops. \n",
    "However, the key difference is that this grid is only implemented in one dimension (as we will iterate over the time dimension to find a solution).\n",
    "\n",
    "Run the cell below to continue."
   ]
  },
  {
   "cell_type": "code",
   "execution_count": null,
   "metadata": {},
   "outputs": [],
   "source": [
    "# Implement the grid class\n",
    "# Run this cell before continuing\n",
    "\n",
    "class Grid_1D:\n",
    "    \"\"\"A 1D grid implementation to be used with the Crank-Nicholson method.\"\"\"\n",
    "    def __init__(self, ni: int) -> None:\n",
    "        self.ni = ni\n",
    "        self.origin = 0\n",
    "        self.extent = 1\n",
    "\n",
    "        self.x = np.zeros(ni, dtype = float)\n",
    "        self.h = np.zeros(ni, dtype = float)\n",
    "\n",
    "    def set_origin(self, x0: float) -> None:\n",
    "        \"\"\"Set the origin of the grid.\"\"\"\n",
    "        self.origin = x0\n",
    "\n",
    "    def set_extent(self, x1: float) -> None:\n",
    "        \"\"\"Set the extent of the grid.\"\"\"\n",
    "        self.extent = x1\n",
    "\n",
    "    def Delta_x(self) -> float:\n",
    "        \"\"\"The spacing in the x-direction.\"\"\"\n",
    "        return (self.extent - self.origin) / (self.ni - 1)\n",
    "    \n",
    "    def generate(self, Quiet: bool = True) -> None:\n",
    "        self.x = np.linspace(self.origin, self.extent, self.ni, endpoint=True)\n",
    "\n",
    "        if not Quiet:\n",
    "            print(self)\n",
    "\n",
    "    def __str__(self):\n",
    "        \"\"\"A quick function to tell us about the grid. This will be what is displayed if you try to print the Grid object.\"\"\"\n",
    "        return f\"1D Grid Object: Uniform grid grid with {self.ni} points, from {self.origin} to {self.extent}.\"\n",
    "    "
   ]
  },
  {
   "cell_type": "markdown",
   "metadata": {},
   "source": [
    "Below is a partial implementation of the function ``assemble_CN_matrices``. Which implements the work that you have done above to set up the matrix equation for the Crank-Nicholson method.\n",
    "\n",
    "### c)\n",
    "\n",
    "Complete the function ``assemble_CN_matrices`` by implementing the constant ``r_x`` defined in part (a) as well as the matrix ``B`` and the vector ``b``, as defined in part (b). The implementaton for matrix ``A`` is already provided, which should provide some hints on how you may implement matrix ``B``."
   ]
  },
  {
   "cell_type": "code",
   "execution_count": null,
   "metadata": {},
   "outputs": [],
   "source": [
    "def assemble_CN_matries(mesh: Grid_1D, delta_t, kappa, H0)-> tuple[np.ndarray, np.ndarray, np.ndarray]:\n",
    "    \"\"\"Assemble the matrices for the Crank-Nicholson\n",
    "    method for a 1D diffusion problem.\n",
    "\n",
    "    Parameters:\n",
    "    -----------\n",
    "    mesh: Grid_1D\n",
    "        The grid to assemble the matrices for.\n",
    "    delta_t: float\n",
    "        The time step.\n",
    "    kappa: float\n",
    "        The diffusion coefficient.\n",
    "    H0: float\n",
    "        The Dirichlet boundary condition for the problem.\n",
    "    \n",
    "    Returns:\n",
    "    --------\n",
    "    A: np.ndarray\n",
    "        The matrix for the implicit terms.\n",
    "    B: np.ndarray\n",
    "        The matrix for the explicit terms.\n",
    "\n",
    "    b: np.ndarray\n",
    "        The vector for the right-hand side of the equation.\n",
    "    \"\"\"\n",
    "    # First, we need to determine the constants to the values calculated above.\n",
    "\n",
    "    # Your code here:\n",
    "    r_x = np.nan\n",
    "\n",
    "    if r_x == np.nan:\n",
    "        raise NotImplementedError(\"You need to implement rx for the Crank-Nicholson method.\")\n",
    "\n",
    "    # Create the matrix, then get them to put the correct terms in the correct places\n",
    "    # You do not need to change anything here.\n",
    "\n",
    "    A = np.zeros((mesh.ni-2, mesh.ni-2), dtype = float)\n",
    "    B = np.zeros_like(A, dtype=float)\n",
    "    b = np.zeros(mesh.ni-2, dtype = float)\n",
    "\n",
    "    # Implement the matrix A and B.\n",
    "    # Note that for simplicity, we use the martix index notation k = i-1, 0 <= k <= ni-3, rather than the grid notation i, 0<= i <= ni-1.\n",
    "    for k in range(1, mesh.ni-3):\n",
    "        # Implementation of A interior\n",
    "        A[k,k-1] = -r_x\n",
    "        A[k,k] = 2 + 2*r_x\n",
    "        A[k,k+1] = -r_x\n",
    "\n",
    "        # Implementation of B interior\n",
    "        # Your code here:\n",
    "        \n",
    "\n",
    "    # Implementation of boundaries in A, B and b\n",
    "\n",
    "    # A\n",
    "    A[0,0] = 2 + 2*r_x\n",
    "    A[0,1] = - 2*r_x\n",
    "    A[-1,-1] = 2 + 2*r_x\n",
    "    A[-1,-2] = - r_x\n",
    "\n",
    "    # Your code here:\n",
    "\n",
    "\n",
    "    if (B == np.zeros_like(B, dtype=float)).all() or (b == np.zeros_like(b, dtype=float)).all():\n",
    "        raise NotImplementedError(\"You need to implement the matrices for the Crank-Nicholson method.\")\n",
    "\n",
    "    return A, B, b"
   ]
  },
  {
   "cell_type": "markdown",
   "metadata": {},
   "source": [
    "Now, we run some tests to ensure that ``assemble_CN_matrix`` is working correctly and to check what it looks like.\n",
    "\n",
    "Check to ensure the matirces and vectors take the form that you expect."
   ]
  },
  {
   "cell_type": "code",
   "execution_count": null,
   "metadata": {},
   "outputs": [],
   "source": [
    "### BEGIN TESTS ###\n",
    "\n",
    "# A test cell to show the form of the matrix.\n",
    "mesh = Grid_1D(7)\n",
    "mesh.set_extent(1.5)\n",
    "A, B, b = assemble_CN_matries(mesh = mesh, delta_t=1, kappa=1, H0=1.5)\n",
    "\n",
    "# You don't need to worry about this section of the code too much; it is just to ensure that the colourmap used is symmetric about 0.\n",
    "supmax = np.max([np.max(np.abs(A)), np.max(np.abs(B)), np.max(np.abs(b))])\n",
    "nrom = Normalize(vmin=-supmax, vmax=supmax)\n",
    "\n",
    "# Do the plotting\n",
    "fig, axs = plt.subplots(1,3,width_ratios=(1+1.85*A.shape[0], 1+1.85*B.shape[0], 2.05))\n",
    "\n",
    "axs[0].imshow(A, aspect='equal', cmap=cm.RdBu, norm=nrom)\n",
    "axs[1].imshow(B, aspect='equal', cmap=cm.RdBu, norm=nrom)\n",
    "axs[2].imshow(np.transpose(np.array([b])), aspect='equal', cmap=cm.RdBu, norm=nrom)\n",
    "\n",
    "cbar = plt.colorbar(cm.ScalarMappable(norm=nrom, cmap=cm.RdBu), ax=axs, orientation='horizontal', label='Matrix Value')\n",
    "rx = 16\n",
    "# Here, we add ticks which you may find useful...\n",
    "cbar.set_ticks([2-2*rx, -rx, 0, rx, 2*rx*1.5, 2+2*rx, 2*rx, -2*rx])\n",
    "cbar.set_ticklabels([f'\\n$2-2r_x$', r'$-r_x$', r'$0$', r'$r_x$', r'$2r_xH_0$', f'\\n$2+2r_x$', r'$2r_x$', r'$-2r_x$'])\n",
    "\n",
    "\n",
    "axs[2].set_xticks([])\n",
    "axs[0].set_title(\"$A$\")\n",
    "axs[1].set_title(\"$B$\")\n",
    "axs[2].set_title(\"$b$\")\n",
    "\n",
    "plt.show()\n",
    "\n",
    "### END TESTS ###"
   ]
  },
  {
   "cell_type": "markdown",
   "metadata": {},
   "source": [
    "You should see that the matrices $A$ and $B$ are tri-diagonal and that the boundary conditions have been applied in $b$.\n",
    "\n",
    "We now need to solve the matrix equation we had above,\n",
    "\n",
    "$$A\\mathbf{h}^{n+1} = B\\mathbf{h}^n + \\mathbf{b},$$\n",
    "\n",
    "to find $\\mathbf{h}^{n+1}$ given the previous timestep $\\mathbf{h}^n$.\n",
    "To do this, we first construct a temporary vector\n",
    "$$\\mathbf{d}^n = B\\mathbf{h}^n + \\mathbf{b},$$\n",
    "\n",
    "which we can then use to solve the matrix equation \n",
    "$$A\\mathbf{h}^{n+1} = \\mathbf{d}^n.$$\n",
    "\n",
    "### d)\n",
    "\n",
    "Write a function ``solve_CN_iteration`` below to solve the matrix equation and return the solution at the next time step (given the current timestep).\n",
    "\n",
    "It should take the following inputs:\n",
    "- ``A``: The matrix $A$.\n",
    "- ``B``: The matrix $B$.\n",
    "- ``b``: The vector $\\mathbf{b}$.\n",
    "- ``h_current``: The vector $\\mathbf{h}^n$.\n",
    "\n",
    "and should return the solution at the next time step, $\\mathbf{h}^{n+1}$.\n",
    "\n",
    "[**Hint:** You may find the ``@`` operator useful for matrix multiplication in the first step of the matrix equation. You also can use the function [``np.linalg.solve()``](https://numpy.org/doc/2.0/reference/generated/numpy.linalg.solve.html) to solve the second part of the matrix equation.]"
   ]
  },
  {
   "cell_type": "code",
   "execution_count": null,
   "metadata": {},
   "outputs": [],
   "source": [
    "# Your code here:\n",
    "\n"
   ]
  },
  {
   "cell_type": "markdown",
   "metadata": {},
   "source": [
    "Check to ensure your solver is working correctly."
   ]
  },
  {
   "cell_type": "code",
   "execution_count": null,
   "metadata": {},
   "outputs": [],
   "source": [
    "### BEGIN TESTS ###\n",
    "A_test = np.identity(3, dtype = int)\n",
    "B_test = np.identity(3, dtype = int)\n",
    "B_test[1,1] = 0\n",
    "b_test = np.array([0,1,0], dtype = int)\n",
    "h_init_test = np.ones(3, dtype = int)\n",
    "\n",
    "assert np.all(solve_CN_iteration(A_test, B_test, b_test, h_init_test) == np.array([1,1,1], dtype = int)), \"Your solver function does not seem to be returning the correct values for this test case.\\nCheck you have implemented the matrix equations above correcrtly.\\nIt may help to try this test case by hand first.\"\n",
    "### END TESTS ###"
   ]
  },
  {
   "cell_type": "markdown",
   "metadata": {},
   "source": [
    "Now, we need to successively apply the solver to advance the solution in time. To do this, a partially complete function ``advance_CN_in_time`` is provided below.\n",
    "\n",
    "### e)\n",
    "\n",
    "Complete the function by calculating the number of steps of size ``delta_t`` required to reach ``t_stop``, setting up the matrices and implementing the iteration step."
   ]
  },
  {
   "cell_type": "code",
   "execution_count": null,
   "metadata": {},
   "outputs": [],
   "source": [
    "def advance_CN_in_time(mesh: Grid_1D, kappa: float, t_stop: float, delta_t: float) -> tuple[np.ndarray, np.ndarray]:\n",
    "    \"\"\"Advance the Crank-Nicholson method in time for a 1D diffusion problem.\n",
    "\n",
    "    Parameters:\n",
    "    -----------\n",
    "    mesh: Grid_1D\n",
    "        The grid to solve the problem on.\n",
    "    kappa: float\n",
    "        The diffusion coefficient.\n",
    "    t_stop: float\n",
    "        The time to stop the simulation.\n",
    "    \n",
    "    Returns:\n",
    "    --------\n",
    "    times: np.ndarray\n",
    "        The times at which the solution was calculated.\n",
    "    hs: np.ndarray\n",
    "        The solutions at each time.\n",
    "    \"\"\"\n",
    "\n",
    "    # Set up the initial conditions and the bounday condition.\n",
    "    # It is assumed that these input into mesh.h prior to calling this function.\n",
    "\n",
    "    h_init = mesh.h.copy()[1:-1]\n",
    "    H0 = mesh.h[-1]\n",
    "\n",
    "    # Calculate the number of steps to take.\n",
    "    # Your code here:\n",
    "\n",
    "    n_steps = np.nan\n",
    "\n",
    "    if n_steps == np.nan:\n",
    "        raise NotImplementedError(\"You need to implement the number of steps to take in the Crank-Nicholson method.\")\n",
    "\n",
    "    # Set up the time array and the solution array.\n",
    "    times = np.zeros(n_steps+1, dtype = float)\n",
    "    # hs is made to be the same size as the bulk for simplicity. \n",
    "    # We expand it to include the boundary terms later.\n",
    "    hs = np.zeros((n_steps+1, mesh.ni-2), dtype = float)\n",
    "    hs[0] = h_init # Set the initial conditions.\n",
    "\n",
    "\n",
    "    # Set up the matrices and iterate over the time steps.\n",
    "    # Your code here:\n",
    "\n",
    "    A, B, b = np.nan, np.nan, np.nan\n",
    "    \n",
    "    \n",
    "    if type(A) != np.ndarray or type(B) != np.ndarray or type(b) != np.ndarray:\n",
    "        raise NotImplementedError(\"You need to implement the matrices and complete the time iteration for the Crank-Nicholson method.\")\n",
    "\n",
    "    # Add the boundary conditions to the solution array.\n",
    "    h_out = np.empty((n_steps+1, mesh.ni), dtype = float)\n",
    "    h_out[:,1:-1] = hs\n",
    "    h_out[:,0] = h_out[:,1]\n",
    "    h_out[:,-1] = H0\n",
    "    return times, h_out\n"
   ]
  },
  {
   "cell_type": "markdown",
   "metadata": {},
   "source": [
    "Now that we have successfully implemented the Crank-Nicholson method, we can use it to solve the transient diffusion equation for our filter bed.\n",
    "\n",
    "The function ``setup_mesh()`` below sets up the mesh with the appropriate parameters for the problem.\n",
    "Run the cell below to continue. You do not need to modify this cell."
   ]
  },
  {
   "cell_type": "code",
   "execution_count": null,
   "metadata": {},
   "outputs": [],
   "source": [
    "def setup_mesh(npoints: int) -> Grid_1D:\n",
    "    \"\"\"Set up the mesh for the 1D diffusion problem.\"\"\"\n",
    "\n",
    "    mesh = Grid_1D(npoints)\n",
    "    mesh.set_origin(0)\n",
    "    mesh.set_extent(50)\n",
    "    mesh.generate()\n",
    "    mesh.h = 1.6*np.ones(mesh.ni, dtype = float)\n",
    "    mesh.h[-1] = 1.0\n",
    "\n",
    "    return mesh"
   ]
  },
  {
   "cell_type": "markdown",
   "metadata": {},
   "source": [
    "### f)\n",
    "\n",
    "The bed is filled with fine silt with a hydraulic transmissitivity of $T=3.33\\times10^{-6}\\text{m}^2\\text{s}^{-1}$ and a storage coefficient, $S=0.002$.\n",
    "\n",
    "Set up a mesh with 101 nodes and model the flow through the bed for 30 days with a time step of 60 s.\n",
    "\n",
    "Produce a plot of the results.\n",
    "\n",
    "[**Hint:** You may find the function [``plt.plot()``](https://matplotlib.org/stable/api/_as_gen/matplotlib.pyplot.plot.html) useful for plotting the results. Remember that $\\kappa = \\dfrac{T}{S}$.]"
   ]
  },
  {
   "cell_type": "code",
   "execution_count": null,
   "metadata": {},
   "outputs": [],
   "source": [
    "# Your code here:\n",
    "\n"
   ]
  },
  {
   "cell_type": "markdown",
   "metadata": {},
   "source": [
    "## Bonus Question\n",
    "\n",
    "Now, we will use the tools that we have developed to compare the flow of water through different materials.\n",
    "\n",
    "(i) Model the flow of water through a bed of clay with a transmissivity of $T=4.70\\times10^{-9}\\text{ m}^2\\text{s}^{-1}$ and a storage coefficient, $S=3.25\\times10^{-4}$, for 365 days (1 year).\n",
    "\n",
    "(ii) Model the flow of water through a bed of gravel with a transmissivity of $T=3.0\\times10^{-4}\\text{ m}^2\\text{s}^{-1}$ and a storage coefficient, $S=7.87\\times10^{-5}$, for 60 minutes.\n",
    "\n",
    "In each case, you will need to choose an appropriate value of ``delta_t``. "
   ]
  },
  {
   "cell_type": "code",
   "execution_count": null,
   "metadata": {},
   "outputs": [],
   "source": [
    "# Your code here:\n",
    "\n"
   ]
  }
 ],
 "metadata": {
  "kernelspec": {
   "display_name": "Python [conda env:base] *",
   "language": "python",
   "name": "conda-base-py"
  },
  "language_info": {
   "codemirror_mode": {
    "name": "ipython",
    "version": 3
   },
   "file_extension": ".py",
   "mimetype": "text/x-python",
   "name": "python",
   "nbconvert_exporter": "python",
   "pygments_lexer": "ipython3",
   "version": "3.12.7"
  }
 },
 "nbformat": 4,
 "nbformat_minor": 4
}
