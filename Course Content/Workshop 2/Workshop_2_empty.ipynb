{
 "cells": [
  {
   "cell_type": "markdown",
   "metadata": {},
   "source": [
    "# PDEs 3 Workshop 2\n",
    "\n",
    "Welcome to the second workshop of the PDE 3 (Numerical) course!\n",
    "\n",
    "## In this workshop:\n",
    "- Jacobi Iteration\n",
    "- Successive Over-Relaxation\n",
    "- Bonus Question: Comparing Analytical and Numerical Solutions"
   ]
  },
  {
   "cell_type": "code",
   "execution_count": 1,
   "metadata": {},
   "outputs": [],
   "source": [
    "# Run this cell to import the required modules.\n",
    "# Do this before you write any code!\n",
    "import numpy as np\n",
    "import matplotlib.pyplot as plt\n",
    "from time import process_time\n",
    "%matplotlib inline  "
   ]
  },
  {
   "cell_type": "markdown",
   "metadata": {},
   "source": [
    "# Section 1: Jacobi Iteration\n",
    "\n",
    "In this section, we will use the Jacobi Iteration scheme to solve the Laplace equation for the steady-state heat distribution $u(x,y)$ on a square metal plate which is 30 cm x 30 cm in size.\n",
    "\n",
    "The boundary conditions of the system are as follows:\n",
    "\n",
    "* The bottom side is held at $0^\\circ C$\n",
    "* The top side is heated so that the left corner is at $0^\\circ C$ and the right corner is at $100^\\circ C$, and the temperature varies linearly\n",
    "* The left side is insulated\n",
    "* The right side insulated\n",
    "\n",
    "\n",
    "Mathematically, we can write these as:\n",
    "\n",
    "* $u(x,0) = 0^\\circ C$ \n",
    "\n",
    "* $u(x,1) = \\frac{x}{30} \\times 100^\\circ C$\n",
    "\n",
    "* $\\left.\\dfrac{\\partial u}{\\partial x}\\right|_{x=0} = 0$\n",
    "\n",
    "* $\\left.\\dfrac{\\partial u}{\\partial x}\\right|_{x=1} = 0$\n",
    "\n",
    "The first two of these boundary conditions are Dirichlet boundary conditions, whereas the last two are Neumann boundary conditions."
   ]
  },
  {
   "cell_type": "markdown",
   "metadata": {},
   "source": [
    "### Pseudocode\n",
    "\n",
    "The steps required for the Jacobi iteration can be written as the following pseudocode.\n",
    "\n",
    "1. Specify the initial values $u_{i,j}^0$ for all $x_i$,$y_j$\n",
    "2. Set the iteration counter $m=0$\n",
    "4. Repeat:\n",
    "\n",
    "    1. Apply the boundary conditions\n",
    "    2. Compute $u_{i,j}^{m+1} = \\dfrac{1}{2(1+\\beta^2)}(u_{i+1,j}^m + u_{i-1,j}^m + \\beta^2 (u_{i,j+1} ^m+u_{i,j-1}^m))$ for all $x_i$, $y_j$\n",
    "    3. Increment $m$\n",
    "    \n",
    "5. Stop when $max|u_{i,j}^{m-1}-u_{i,j}^m|<$ tolerance or $m > m_{max}$\n"
   ]
  },
  {
   "cell_type": "markdown",
   "metadata": {},
   "source": [
    "## a)\n",
    "\n",
    "The Jacobi Iteration scheme is based on the second order finite difference approximations\n",
    "$$\n",
    "\\dfrac{\\partial^2u}{\\partial x^2} = \\dfrac{u_{i-1,j}-2u_{i,j}+u_{i+1,j}}{(\\Delta x)^2}\n",
    "$$\n",
    "\n",
    "$$\n",
    "\\dfrac{\\partial^2u}{\\partial y^2} = \\dfrac{u_{i,j-1}-2u_{i,j}+u_{i,j+1}}{(\\Delta y)^2}\n",
    "$$\n",
    "\n",
    "which we can use to determine the Jacobi iteration (see lecture 2 for further details):\n",
    "\n",
    "$$\n",
    "u_O = \\dfrac{1}{2(1+\\beta^2)}(u_E + u_W + \\beta^2 (u_N +u_S))\n",
    "$$\n",
    "where $\\beta=\\frac{\\Delta x}{\\Delta y}$ is the ratio of the mesh spacing in the $x$ and $y$ directions.\n",
    "\n",
    "\n",
    "<div>\n",
    "<img src=\"jacobi.svg\" width=\"500\"/>\n",
    "</div>"
   ]
  },
  {
   "cell_type": "markdown",
   "metadata": {},
   "source": [
    "Define a function `u_O(u_E, u_W, u_N, u_S, delta_x, delta_y)` below to calculate $u_0$ given the neighbouring values and the desired grid spacing. This is step 3B in our pseudocode."
   ]
  },
  {
   "cell_type": "code",
   "execution_count": 2,
   "metadata": {},
   "outputs": [],
   "source": [
    "# Your code here"
   ]
  },
  {
   "cell_type": "code",
   "execution_count": 3,
   "metadata": {},
   "outputs": [],
   "source": [
    "### BEGIN TESTS ###\n",
    "\n",
    "assert type(u_O(0, 0, 0, 0, 1, 1)) == float, \"\"\"Check to ensure that u_O returns a float when only single values are passed into it.\"\"\"\n",
    "assert u_O(0, 0, 0, 0, 1, 1) == 0, \"\"\"Check to ensure that you have implemented u_O correctly using the definition above.\"\"\"\n",
    "assert u_O(1, 1, 1, 1, 1, 1) == 1, \"\"\"Check to ensure that you have implemented u_O correctly using the definition above.\"\"\"\n",
    "\n",
    "### END TESTS ###"
   ]
  },
  {
   "cell_type": "markdown",
   "metadata": {},
   "source": [
    "## b)\n",
    "Describe the differences between Neumann and Dirichlet boundary conditions and how they can be implemented in the Jacobi Iteration scheme."
   ]
  },
  {
   "cell_type": "markdown",
   "metadata": {},
   "source": [
    "<font color='orange'>Your answer goes here. Double-click the cell to modify it.</font>"
   ]
  },
  {
   "cell_type": "markdown",
   "metadata": {},
   "source": [
    "\n",
    "### Provided for you: The Grid class\n",
    "\n",
    "To implement Jacobi iteration scheme in code, we will need a grid of points to iterate over. Below is a `Grid` class which we can use. You don't need to know all of the details (though feel free to look through the code if you would like to!) but it has a number of useful methods and variables built in:\n",
    "- `Grid.x`: The $x$ values of the grid\n",
    "- `Grid.y`: The $y$ values of the grid\n",
    "- `Grid.u`: The current values of $u_{i,j}$ on the grid\n",
    "- `Grid.generate()`: A method (function) to generate the actual grid of points\n",
    "- `Grid.update()`: A method to update the values of $u_{i,j}$ on the grid\n",
    "- `Grid.Delta_x()`: A method to calculate $\\Delta x$\n",
    "- `Grid.Delta_y()`: A method to calculate $\\Delta y$"
   ]
  },
  {
   "cell_type": "code",
   "execution_count": 4,
   "metadata": {},
   "outputs": [],
   "source": [
    "class Grid:\n",
    "    \"\"\"A class defining a 2D grid on which we can implement the Jacobi and SOR iteration schemes.\"\"\"\n",
    "\n",
    "    def __init__(self, ni: int, nj: int):\n",
    "        self.ni = ni\n",
    "        self.nj = nj\n",
    "        self.origin = (0.0, 0.0)\n",
    "        self.extent = (1.0, 1.0)\n",
    "\n",
    "        self.u = np.zeros((ni, nj))\n",
    "        self.x = np.zeros((ni, nj))\n",
    "        self.y = np.zeros((ni, nj))\n",
    "    \n",
    "    def set_origin(self, x0: float, y0: float):\n",
    "        \"\"\"Set the origin of the grid.\"\"\"\n",
    "        self.origin = (x0, y0)\n",
    "\n",
    "    def set_extent(self, x1: float, y1: float):\n",
    "        \"\"\"Set the extent of the grid.\"\"\"\n",
    "        self.extent = (x1, y1)\n",
    "\n",
    "    def Delta_x(self) -> float:\n",
    "        \"\"\"The spacing in the x-direction.\"\"\"\n",
    "        return (self.extent[0] - self.origin[0]) / (self.ni - 1)\n",
    "    \n",
    "    def Delta_y(self) -> float:\n",
    "        \"\"\"The spacing in the y-direction.\"\"\"\n",
    "        return (self.extent[1] - self.origin[1]) / (self.nj - 1)\n",
    "    \n",
    "    def generate(self, Quiet: bool = True):\n",
    "        '''generate a uniformly spaced grid covering the domain from the\n",
    "        origin to the extent.  We are going to do this using linspace from\n",
    "        numpy to create lists of x and y ordinates and then the meshgrid\n",
    "        function to turn these into 2D arrays of grid point ordinates.'''\n",
    "        x_ord = np.linspace(self.origin[0], self.extent[0], self.ni, endpoint=True) # Check whether these should be using endpoint=True\n",
    "        y_ord = np.linspace(self.origin[1], self.extent[1], self.nj, endpoint=True) # Same here\n",
    "        self.x, self.y = np.meshgrid(x_ord,y_ord)\n",
    "        self.x = np.transpose(self.x)\n",
    "        self.y = np.transpose(self.y)\n",
    "\n",
    "        if not Quiet:\n",
    "            print(self)\n",
    "\n",
    "    def update(self):\n",
    "        \"\"\"Update the grid to the new values.\"\"\"\n",
    "        # Still need to implement this properly. We don't want to change the boundary condition points so only update the middle points of the grid.\n",
    "    \n",
    "    def __str__(self):\n",
    "        \"\"\"A quick function to tell us about the grid. This will be what is displayed if you try to print the Grid object.\"\"\"\n",
    "        return f\"Grid Object: Uniform {self.ni}x{self.nj} grid from {self.origin} to {self.extent}.\"\n"
   ]
  },
  {
   "cell_type": "markdown",
   "metadata": {},
   "source": [
    "### c)\n",
    "\n",
    "Complete the code snippet below to implement the Jacobi iteration scheme as described in the pseudocode. Remember to account for the Neumann boundary conditions of the system. Referring to our pseudocode, what you write below should capture steps 2-4, calling the function you have written above for step 3B (the `u_0` function). For convenience, the Dirichlet Boundary conditions will be handled separately, as you will see in the function `set_Jacobi_mesh` below.\n",
    "\n",
    "The function `Jacobi` should take four inputs: the mesh (a ``Grid`` object), the maximum number of iterations, the tolerance criterion and the Neumann boundary condition. The Jacobi iteration stops when the number of iterations exceeds the maximum number specified or if it meets the tolerance criterion. For simplicity, the latter is calculated as the maximum difference in any grid point between the old and new values. Other criteria can be used if desired including integrated quantities. The function should output the number of iterations when the solution converges below the tolerance criterion, and the error at the last iteration."
   ]
  },
  {
   "cell_type": "code",
   "execution_count": 5,
   "metadata": {},
   "outputs": [],
   "source": [
    "def Jacobi(mesh: Grid, max_iterations: int, tolerance: float, neumann:float) -> tuple[int, float]:\n",
    "    \"\"\"The Jacobi iteration scheme.\n",
    "    \n",
    "    Parameters:\n",
    "    -----------\n",
    "\n",
    "    mesh: Grid\n",
    "        The grid on which to implement the Jacobi iteration.\n",
    "    max_iterations: int\n",
    "        The maximum number of iterations to perform.\n",
    "    tolerance: float\n",
    "        The error tolerance.\n",
    "    neumann: float\n",
    "        The Neumann boundary condition.\n",
    "        Note that in this code, all Neumann boundary conditions are assumed to be the same.\n",
    "        \n",
    "    Returns:\n",
    "    --------\n",
    "    \n",
    "    n_iterations: int\n",
    "        The number of iterations performed.\n",
    "    error: float\n",
    "        The error in the solution.\n",
    "    \"\"\"\n",
    "\n",
    "    # Your code here:\n",
    "    return n_iterations, error"
   ]
  },
  {
   "cell_type": "code",
   "execution_count": 6,
   "metadata": {},
   "outputs": [],
   "source": [
    "# Now we test the scheme to make sure it works.\n",
    "### BEGIN TESTS ###\n",
    "test_grid = Grid(4,4)\n",
    "test_grid.generate()\n",
    "Jacobi(test_grid, 3, 1e-3, neumann=0)\n",
    "assert np.isclose(test_grid.u, np.zeros((4,4))).all(), \"\"\"Check to ensure that the Jacobi iteration scheme is working correctly. Where the boundary conditions are all zero, nothing should change.\"\"\"\n",
    "test_grid.u[0,:] = 1\n",
    "test_grid.u[-1,:] = 1\n",
    "test_grid.u[:,0] = 1\n",
    "test_grid.u[:,-1] = 1\n",
    "Jacobi(test_grid, 50, 1e-6, neumann=0)\n",
    "assert np.isclose(test_grid.u, np.ones((4,4))).all(), \"\"\"Check to ensure that the Jacobi iteration scheme is working correctly. Where the boundary conditions are all one, mesh should converge towards one fairly rapidly.\"\"\"\n",
    "\n",
    "Neumann_test_grid = Grid(4,4)\n",
    "Neumann_test_grid.generate()\n",
    "Neumann_test_grid.u[:,0] = 1\n",
    "Neumann_test_grid.u[:,-1] = 1\n",
    "Jacobi(Neumann_test_grid, 50, 1e-6, neumann=1)\n",
    "assert np.isclose(Neumann_test_grid.u[:,1], np.array([0.46666348,0.86666428,1.13333095,1.53333015])).all(), \"\"\"Check to ensure that you have set up the Nuemann boundary conditions correctly.\"\"\"\n",
    "### END TESTS ###"
   ]
  },
  {
   "cell_type": "markdown",
   "metadata": {},
   "source": [
    "### Provided for you: Initialisation of the problem\n",
    "\n",
    "In the cell below, we define a function `set_Jacobi_mesh` to setup the mesh and implement the Dirichlet boundary conditions given at the start of the section. This essentially covers step 1 of our pseudocode. Try to understand this code, as you will need something similar in future workshops. Run this cell, then move on to the next question. "
   ]
  },
  {
   "cell_type": "code",
   "execution_count": null,
   "metadata": {},
   "outputs": [],
   "source": [
    "def set_Jacobi_mesh() -> Grid:\n",
    "    \"\"\"Set up the Jacobi mesh for the problem.\"\"\"\n",
    "    Jacobi_mesh = Grid(101,101)\n",
    "    Jacobi_mesh.set_extent(30.,30.)\n",
    "    Jacobi_mesh.set_origin(0., 0.)\n",
    "    Jacobi_mesh.generate()\n",
    "\n",
    "    Jacobi_mesh.u[:,0] = 0\n",
    "    Jacobi_mesh.u[:,-1] = 100/30*Jacobi_mesh.x[:,-1]\n",
    "    return Jacobi_mesh\n",
    "\n",
    "Jacobi_mesh = set_Jacobi_mesh()\n",
    "\n",
    "plt.pcolor(Jacobi_mesh.x, Jacobi_mesh.y, Jacobi_mesh.u)\n",
    "cax = plt.colorbar()\n",
    "plt.title(\"Setup of top and bottom boundary conditions\")\n",
    "plt.xlabel(\"x\")\n",
    "plt.ylabel(\"y\")\n",
    "cax.set_label(r\"Temperature, $u(x,y)$ / $^\\circ$C \")\n",
    "plt.show()"
   ]
  },
  {
   "cell_type": "markdown",
   "metadata": {},
   "source": [
    "## d)\n",
    "Run the Jacobi iteration on the mesh defined above for two cases: one where the solution has not fully converged and one where it has.\n",
    "Plot the results of both cases on separate axes.\n",
    "You can create the mesh using the `set_Jacobi_mesh()` function defined above.\n",
    "\n",
    "[Hint: In the first plot, set ``max_iterations`` to be very low so that this stops the iteration. Play around wih the ``max iterations`` so that you gain some insight into how the solution converges. In the second plot, set ``max_iterations`` to be high enough to allow the iteration to converge.]"
   ]
  },
  {
   "cell_type": "code",
   "execution_count": null,
   "metadata": {},
   "outputs": [],
   "source": [
    "# Your code here.\n"
   ]
  },
  {
   "cell_type": "markdown",
   "metadata": {
    "vscode": {
     "languageId": "plaintext"
    }
   },
   "source": [
    "# Section 2: Successive Over-Relaxation\n",
    "\n",
    "The Jacobi iteration scheme is relatively simple to implement, but it is not the most efficient iterative scheme.\n",
    "The Successive Over-Relaxation (SOR) method is a modification of the Jacobi method which can converge faster and is implemented below.\n",
    "We will use this scheme to solve the Laplace equation for a second system."
   ]
  },
  {
   "cell_type": "code",
   "execution_count": 9,
   "metadata": {},
   "outputs": [],
   "source": [
    "def SOR(mesh: Grid, max_iterations: int, tolerance: float) -> tuple[int, float]:\n",
    "    \"\"\"The SOR iteration scheme.\n",
    "    \n",
    "    Parameters:\n",
    "    -----------\n",
    "    \n",
    "    mesh: Grid\n",
    "        The grid on which to implement the SOR iteration.\n",
    "    \n",
    "    max_iterations: int\n",
    "        The maximum number of iterations to perform.\n",
    "    \n",
    "    tolerance: float\n",
    "        The error tolerance.\n",
    "    \n",
    "    Returns:\n",
    "    --------\n",
    "    \n",
    "    n_iterations: int\n",
    "        The number of iterations performed.\n",
    "    \n",
    "    error: float\n",
    "        The error in the solution.\n",
    "    \"\"\"\n",
    "\n",
    "    # calculate the optimal value of omega\n",
    "    lamda = (np.cos(np.pi/mesh.ni)+np.cos(np.pi/mesh.nj))**2/4\n",
    "    omega = 2/(1+np.sqrt(1-lamda))\n",
    "    \n",
    "    # calculate the coefficients\n",
    "    beta = mesh.Delta_x()/mesh.Delta_y()\n",
    "    beta_sq = beta**2\n",
    "    C_beta = 1/(2*(1+beta_sq))\n",
    "    \n",
    "    # initialise u_new \n",
    "    u_new = mesh.u.copy()\n",
    "\n",
    "    n_iterations = 0\n",
    "    \n",
    "    # itteration\n",
    "    while n_iterations < max_iterations:\n",
    "        for i in range(1,mesh.ni-1):\n",
    "            for j in range(1,mesh.nj-1):\n",
    "                u_new[i,j] = (1-omega)*mesh.u[i,j] + omega * C_beta*(u_new[i,j-1]+mesh.u[i,j+1]+ beta_sq*(u_new[i-1,j]+mesh.u[i+1,j]))\n",
    "        \n",
    "        \n",
    "        # compute the difference between the new and old solutions\n",
    "        err = np.max(abs(mesh.u-u_new))\n",
    "        \n",
    "        # update the solution\n",
    "        mesh.u = np.copy(u_new)\n",
    "        \n",
    "        # converged?\n",
    "        if err < tolerance:\n",
    "            break\n",
    "        \n",
    "        n_iterations += 1\n",
    "    \n",
    "    return n_iterations, err # return the number of iterations and the final residual"
   ]
  },
  {
   "cell_type": "markdown",
   "metadata": {},
   "source": [
    "For this part of the workshop, we will solve a Laplace equation\n",
    "\n",
    "$$\n",
    "\\dfrac{\\partial^2 v}{\\partial x^2} + \\dfrac{\\partial^2 v}{\\partial y^2} = 0,\n",
    "$$\n",
    "\n",
    "with the following boundary conditions:\n",
    "* $v(0, y) = 0, \\quad y\\ge0$,\n",
    "* $v(1, y) = 0, \\quad y\\ge0$,\n",
    "* $v(x, y\\to\\infty) \\to 0, \\quad 0\\le x\\le1$,\n",
    "* $v(x, 0) = \\sin^5(\\pi x), \\quad 0\\le x\\le1$,\n",
    "\n",
    "in the region given by $0\\le x\\le1$ and $y\\ge0$.\n",
    "\n",
    "\n",
    "### a)\n",
    "Use the `Grid` class to set up a mesh and implement the boundary conditions for this problem.\n",
    "Produce a plot showing that these boundary conditions have been implemented correctly.\n",
    "In terms of numerical implementation, it is not possible to implement a boundary condition at $y\\to\\infty$ directly.\n",
    "However, this can usually be resolved by taking an upper bound that is sufficiently large for $y$.\n",
    "For this problem, we can replace $v(x, y\\to\\infty) \\to 0$ with $v(x,3)=0$.\n",
    "\n",
    "[Hint: You may find the [``plt.pcolor()``](https://matplotlib.org/stable/api/_as_gen/matplotlib.pyplot.pcolor.html) function useful for plotting the grid.]"
   ]
  },
  {
   "cell_type": "code",
   "execution_count": null,
   "metadata": {},
   "outputs": [],
   "source": [
    "# Your code here:\n"
   ]
  },
  {
   "cell_type": "markdown",
   "metadata": {},
   "source": [
    "### b) \n",
    "\n",
    "Use the SOR implementation above to solve the Laplace equation for this system."
   ]
  },
  {
   "cell_type": "code",
   "execution_count": null,
   "metadata": {},
   "outputs": [],
   "source": [
    "# Your code here:\n"
   ]
  },
  {
   "cell_type": "markdown",
   "metadata": {},
   "source": [
    "## Section 3: Bonus Question\n",
    "\n",
    "In this workshop, we have used the Jacobi and Successive Over-Relaxation schemes to numerically calculate the solution to the Laplace equation, given a set of boundary conditions.\n",
    "Now, we will solve the system from Section 2 analytically and compare the analytical and numerical results.\n",
    "\n",
    "As a reminder, the boundary conditions are:\n",
    "\n",
    "* $v(0, y) = 0, \\quad y\\ge0$\n",
    "* $v(1, y) = 0, \\quad y\\ge0$\n",
    "* $v(x, y\\to\\infty) \\to 0, \\quad 0\\le x\\le1$\n",
    "* $v(x, 0) = \\sin^5(\\pi x), \\quad 0\\le x\\le1$"
   ]
  },
  {
   "cell_type": "markdown",
   "metadata": {},
   "source": [
    "### a)\n",
    "Use the method of separation of variables to solve the Laplace equation subject to the boundary conditions in Section 2.\n",
    "\n",
    "You might want to use the identity\n",
    "$$\n",
    "\\sin^5\\theta = \\frac{1}{16}\\left(\\sin 5\\theta - 5 \\sin 3\\theta + 10 \\sin\\theta \\right)\n",
    "$$"
   ]
  },
  {
   "cell_type": "markdown",
   "metadata": {},
   "source": [
    "<font color='orange'>Your answer goes here. Double-click the cell to modify it.</font>\n"
   ]
  },
  {
   "cell_type": "markdown",
   "metadata": {},
   "source": [
    "### b)\n",
    "Implement the analytic solution you have found in Python and compare the result with the numerical solution from Section 2b.\n",
    "\n",
    "\n",
    "State why using $y=3$ was a suitable cutoff for the grid in Section 2b."
   ]
  },
  {
   "cell_type": "code",
   "execution_count": null,
   "metadata": {},
   "outputs": [],
   "source": [
    "# Your code here.\n",
    "\n"
   ]
  },
  {
   "cell_type": "markdown",
   "metadata": {},
   "source": [
    "<font color='orange'>Your answer goes here. Double-click the cell to modify it.</font>\n"
   ]
  },
  {
   "cell_type": "markdown",
   "metadata": {},
   "source": [
    "### c)\n",
    "Produce a plot to show how the error between the numerical (using both Jacobi and SOR schemes) and analytic solutions varies with increasing number of iterations. Comment on how quickly the two schemes converge. \n",
    "\n",
    "The error can be calculated as:\n",
    "\n",
    "$$\n",
    "\\varepsilon = \\frac{Q_\\text{analytic} - Q_\\text{numerical}}{Q_\\text{analytic}}\n",
    "$$\n",
    "\n",
    "where $Q_i$ is defined as \n",
    "$$\n",
    "Q_i = \\int_0^1\\int_0^{y_\\text{max}} u(x,y)^2 \\, dx \\, dy\n",
    "$$\n",
    "\n",
    "To assist with this question, modified versions of the Jacobi and SOR functions above have been provided in ``auxillary.py`` and have been imported below. \n",
    "These functions take in the computational mesh (`Grid` object) and the list of iteration steps to be sampled. They output the corresponding iterations and the values of $Q$ for those iterations. An implemenation of the $Q$ integral is also provided. "
   ]
  },
  {
   "cell_type": "code",
   "execution_count": 13,
   "metadata": {},
   "outputs": [],
   "source": [
    "# Run this cell to import the required modules.\n",
    "from auxillary import Jacobi_iteration_vs_error, SOR_iteration_vs_error, calc_Q"
   ]
  },
  {
   "cell_type": "code",
   "execution_count": 14,
   "metadata": {},
   "outputs": [],
   "source": [
    "# The code below setups the mesh and run the calculations for Jacobi and SOR schemes\n",
    "\n",
    "mesh_size = (101,301)\n",
    "mesh_extent = (1., 3.)\n",
    "\n",
    "iteration_steps = [2**i for i in range(0,11)]\n",
    "\n",
    "def setup_mesh(mesh_size: tuple[int,int], mesh_extent: tuple[float,float]) -> Grid:\n",
    "    mesh = Grid(*mesh_size)\n",
    "    mesh.set_extent(*mesh_extent)\n",
    "    mesh.generate()\n",
    "    mesh.u[0,:] = 0\n",
    "    mesh.u[-1,:] = 0\n",
    "    mesh.u[:,0] = np.sin(np.pi*mesh.x[:,0])**5\n",
    "    mesh.u[:,-1] = 0\n",
    "    return mesh\n",
    "\n",
    "\n",
    "mesh_Jacobi = setup_mesh(mesh_size, mesh_extent)\n",
    "iterations_Jacobi, Qs_Jacobi = Jacobi_iteration_vs_error(mesh=mesh_Jacobi, iterations_to_sample=iteration_steps)\n",
    "\n",
    "mesh_SOR = setup_mesh(mesh_size, mesh_extent)\n",
    "iterations_SOR, Qs_SOR = SOR_iteration_vs_error(mesh=mesh_SOR, iterations_to_sample=iteration_steps)\n",
    "\n",
    "mesh_analytic = setup_mesh(mesh_size, mesh_extent)\n",
    "mesh_analytic.u = analytic(mesh_analytic.x, mesh_analytic.y)\n",
    "Q_analytic = calc_Q(mesh_analytic)\n"
   ]
  },
  {
   "cell_type": "code",
   "execution_count": null,
   "metadata": {},
   "outputs": [],
   "source": [
    "# Your code here\n",
    "\n"
   ]
  }
 ],
 "metadata": {
  "kernelspec": {
   "display_name": "PDEs3-5FhZHto3",
   "language": "python",
   "name": "python3"
  },
  "language_info": {
   "codemirror_mode": {
    "name": "ipython",
    "version": 3
   },
   "file_extension": ".py",
   "mimetype": "text/x-python",
   "name": "python",
   "nbconvert_exporter": "python",
   "pygments_lexer": "ipython3",
   "version": "3.10.8"
  }
 },
 "nbformat": 4,
 "nbformat_minor": 4
}
