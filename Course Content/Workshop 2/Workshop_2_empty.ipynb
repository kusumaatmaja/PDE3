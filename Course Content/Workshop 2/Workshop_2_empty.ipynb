{
 "cells": [
  {
   "cell_type": "markdown",
   "metadata": {},
   "source": [
    "# PDEs 3 Workshop 2\n",
    "\n",
    "Welcome to the second workshop of the PDE 3 (Numerical) course!\n",
    "\n",
    "## In this workshop:\n",
    "- Jacobi Iteration\n",
    "- Successive Over-Relaxation\n",
    "- Bonus Question: Comparing Analytical and Numerical Solutions - see the additional Jupyter notebook"
   ]
  },
  {
   "cell_type": "code",
   "execution_count": 1,
   "metadata": {},
   "outputs": [],
   "source": [
    "# Run this cell to import the required modules.\n",
    "# Do this before you write any code!\n",
    "import numpy as np\n",
    "import matplotlib.pyplot as plt\n",
    "%matplotlib inline  "
   ]
  },
  {
   "cell_type": "markdown",
   "metadata": {},
   "source": [
    "# Section 1: Jacobi Iteration\n",
    "\n",
    "In this section, we will use the Jacobi Iteration scheme to solve the Laplace equation. "
   ]
  },
  {
   "cell_type": "markdown",
   "metadata": {},
   "source": [
    "The Jacobi Iteration scheme is based on the second order finite difference approximations\n",
    "$$\n",
    "\\dfrac{\\partial^2u}{\\partial x^2} = \\dfrac{u_{i-1,j}-2u_{i,j}+u_{i+1,j}}{(\\Delta x)^2}\n",
    "$$\n",
    "\n",
    "$$\n",
    "\\dfrac{\\partial^2u}{\\partial y^2} = \\dfrac{u_{i,j-1}-2u_{i,j}+u_{i,j+1}}{(\\Delta y)^2}\n",
    "$$\n",
    "\n",
    "which we can use to determine the Jacobi iteration (see lecture 2 for further details):\n",
    "\n",
    "$$\n",
    "u_O = \\dfrac{1}{2(1+\\beta^2)}(u_E + u_W + \\beta^2 (u_N +u_S))\n",
    "$$\n",
    "where $\\beta=\\frac{\\Delta x}{\\Delta y}$ is the ratio of the mesh spacing in the $x$ and $y$ directions.\n",
    "\n",
    "By successively applying this formula to all the interior points of the grid, we can solve the Laplace equation.\n",
    "\n",
    "<div>\n",
    "<img src=\"jacobi.svg\" width=\"500\"/>\n",
    "</div>\n",
    "\n",
    "### Pseudocode\n",
    "\n",
    "The steps required for the Jacobi iteration can be written as the following pseudocode.\n",
    "\n",
    "1. Specify the initial values $u_{i,j}^0$ for all $x_i$,$y_j$\n",
    "2. Set the iteration counter $m=0$\n",
    "4. Repeat:\n",
    "\n",
    "    1. Apply the boundary conditions\n",
    "    2. Compute $u_{i,j}^{m+1} = \\dfrac{1}{2(1+\\beta^2)}(u_{i+1,j}^m + u_{i-1,j}^m + \\beta^2 (u_{i,j+1} ^m+u_{i,j-1}^m))$ for all $x_i$, $y_j$\n",
    "    3. Increment $m$\n",
    "    \n",
    "5. Stop when $max|u_{i,j}^{m-1}-u_{i,j}^m|<$ tolerance or $m > m_{max}$\n"
   ]
  },
  {
   "cell_type": "markdown",
   "metadata": {},
   "source": [
    "### a)\n",
    "\n",
    "Define a function `u_O(u_E, u_W, u_N, u_S, delta_x, delta_y)` below to calculate $u_0$ given the neighbouring values and the desired grid spacing. This is step 3.2 in our pseudocode."
   ]
  },
  {
   "cell_type": "code",
   "execution_count": 6,
   "metadata": {},
   "outputs": [],
   "source": [
    "# Your code here\n",
    "\n"
   ]
  },
  {
   "cell_type": "code",
   "execution_count": 7,
   "metadata": {},
   "outputs": [],
   "source": [
    "### BEGIN TESTS ###\n",
    "\n",
    "assert type(u_O(0, 0, 0, 0, 1, 1)) == float, \"\"\"Check to ensure that u_O returns a float when only single values are passed into it.\"\"\"\n",
    "assert u_O(0, 0, 0, 0, 1, 1) == 0, \"\"\"Check to ensure that you have implemented u_O correctly using the definition above.\"\"\"\n",
    "assert u_O(1, 1, 1, 1, 1, 1) == 1, \"\"\"Check to ensure that you have implemented u_O correctly using the definition above.\"\"\"\n",
    "\n",
    "### END TESTS ###"
   ]
  },
  {
   "cell_type": "markdown",
   "metadata": {},
   "source": [
    "In the rest of this question, we will solve the Laplace equation for the steady-state heat distribution $u(x,y)$ on a square metal plate which is 30 cm x 30 cm in size.\n",
    "\n",
    "The boundary conditions of the system are as follows:\n",
    "\n",
    "* The bottom side is held at $0^\\circ C$\n",
    "* The top side is heated so that the left corner is at $0^\\circ C$ and the right corner is at $100^\\circ C$, and the temperature varies linearly\n",
    "* The left side is insulated\n",
    "* The right side insulated\n",
    "\n",
    "\n",
    "Mathematically, we can write these as:\n",
    "\n",
    "* $u(x,0) = 0^\\circ C$ \n",
    "\n",
    "* $u(x,1) = \\frac{x}{30} \\times 100^\\circ C$\n",
    "\n",
    "* $\\left.\\dfrac{\\partial u}{\\partial x}\\right|_{x=0} = 0$\n",
    "\n",
    "* $\\left.\\dfrac{\\partial u}{\\partial x}\\right|_{x=1} = 0$\n",
    "\n",
    "The first two of these boundary conditions are Dirichlet boundary conditions, whereas the last two are Neumann boundary conditions.\n",
    "\n",
    "### b)\n",
    "Describe the differences between Neumann and Dirichlet boundary conditions and how they can be implemented in the Jacobi Iteration scheme."
   ]
  },
  {
   "cell_type": "markdown",
   "metadata": {},
   "source": [
    "<font color='orange'>Your answer goes here. Double-click the cell to modify it.</font>"
   ]
  },
  {
   "cell_type": "markdown",
   "metadata": {},
   "source": [
    "\n",
    "### Provided for you: The Grid class\n",
    "\n",
    "To implement Jacobi iteration scheme in code, we will need a grid of points to iterate over. Below is a `Grid` class which we can use. You don't need to know all of the details (though feel free to look through the code if you would like to!) but it has a number of useful methods and variables built in:\n",
    "- `Grid.x`: The $x$ values of the grid\n",
    "- `Grid.y`: The $y$ values of the grid\n",
    "- `Grid.u`: The current values of $u_{i,j}$ on the grid\n",
    "- `Grid.generate()`: A method (function) to generate the actual grid of points\n",
    "- `Grid.update()`: A method to update the values of $u_{i,j}$ on the grid\n",
    "- `Grid.Delta_x()`: A method to calculate $\\Delta x$\n",
    "- `Grid.Delta_y()`: A method to calculate $\\Delta y$"
   ]
  },
  {
   "cell_type": "code",
   "execution_count": 11,
   "metadata": {},
   "outputs": [],
   "source": [
    "class Grid:\n",
    "    \"\"\"A class defining a 2D grid on which we can implement the Jacobi and SOR iteration schemes.\"\"\"\n",
    "\n",
    "    def __init__(self, ni: int, nj: int):\n",
    "        self.ni = ni\n",
    "        self.nj = nj\n",
    "        self.origin = (0.0, 0.0)\n",
    "        self.extent = (1.0, 1.0)\n",
    "\n",
    "        self.u = np.zeros((ni, nj))\n",
    "        self.x = np.zeros((ni, nj))\n",
    "        self.y = np.zeros((ni, nj))\n",
    "    \n",
    "    def set_origin(self, x0: float, y0: float):\n",
    "        \"\"\"Set the origin of the grid.\"\"\"\n",
    "        self.origin = (x0, y0)\n",
    "\n",
    "    def set_extent(self, x1: float, y1: float):\n",
    "        \"\"\"Set the extent of the grid.\"\"\"\n",
    "        self.extent = (x1, y1)\n",
    "\n",
    "    def Delta_x(self) -> float:\n",
    "        \"\"\"The spacing in the x-direction.\"\"\"\n",
    "        return (self.extent[0] - self.origin[0]) / (self.ni - 1)\n",
    "    \n",
    "    def Delta_y(self) -> float:\n",
    "        \"\"\"The spacing in the y-direction.\"\"\"\n",
    "        return (self.extent[1] - self.origin[1]) / (self.nj - 1)\n",
    "    \n",
    "    def generate(self, Quiet: bool = True):\n",
    "        '''generate a uniformly spaced grid covering the domain from the\n",
    "        origin to the extent.  We are going to do this using linspace from\n",
    "        numpy to create lists of x and y ordinates and then the meshgrid\n",
    "        function to turn these into 2D arrays of grid point ordinates.'''\n",
    "        x_ord = np.linspace(self.origin[0], self.extent[0], self.ni, endpoint=True) # Check whether these should be using endpoint=True\n",
    "        y_ord = np.linspace(self.origin[1], self.extent[1], self.nj, endpoint=True) # Same here\n",
    "        self.x, self.y = np.meshgrid(x_ord,y_ord)\n",
    "        self.x = np.transpose(self.x)\n",
    "        self.y = np.transpose(self.y)\n",
    "\n",
    "        if not Quiet:\n",
    "            print(self)\n",
    "\n",
    "    def update(self):\n",
    "        \"\"\"Update the grid to the new values.\"\"\"\n",
    "        # Still need to implement this properly. We don't want to change the boundary condition points so only update the middle points of the grid.\n",
    "    \n",
    "    def __str__(self):\n",
    "        \"\"\"A quick function to tell us about the grid. This will be what is displayed if you try to print the Grid object.\"\"\"\n",
    "        return f\"Grid Object: Uniform {self.ni}x{self.nj} grid from {self.origin} to {self.extent}.\"\n"
   ]
  },
  {
   "cell_type": "markdown",
   "metadata": {},
   "source": [
    "### c)\n",
    "\n",
    "Write a function called ``NeumannBC`` which takes in a `Grid` object and ``a``, the value of the Neumann boundary condition, and implements the Neumann boundary conditions as defined above using the central difference scheme.\n",
    "Since you will be be updating the ``Grid`` object directly, you do not need to return anything from the function."
   ]
  },
  {
   "cell_type": "code",
   "execution_count": 13,
   "metadata": {},
   "outputs": [],
   "source": [
    "# Your code here\n",
    "\n"
   ]
  },
  {
   "cell_type": "code",
   "execution_count": 14,
   "metadata": {},
   "outputs": [],
   "source": [
    "### BEGIN TESTS ###\n",
    "test_grid = Grid(4,4)\n",
    "test_grid.generate()\n",
    "NeumannBC(mesh = test_grid, a = 0)\n",
    "assert np.isclose(test_grid.u, np.zeros((4,4))).all(), \"\"\"If all of the interior points of the grid are zero, then the Neumann boundary conditions should also be zero.\"\"\"\n",
    "\n",
    "NeumannBC(mesh = test_grid, a = 1)\n",
    "assert np.isclose(test_grid.u[0], np.array([-0.666667]*4)).all() and np.isclose(test_grid.u[-1], np.array([0.666667]*4)).all(), \"\"\"Check to ensure that you have accounted for the value of `a` correctly.\"\"\"\n",
    "\n",
    "test_grid.u[1] = np.array([1,1,1,1])\n",
    "test_grid.u[2] = np.array([2,2,2,2])\n",
    "NeumannBC(mesh = test_grid, a = 0)\n",
    "assert not np.isclose(test_grid.u[0], np.array([1,1,1,1])).all() and not np.isclose(test_grid.u[-1], np.array([2,2,2,2])).all(), \"\"\"You appear to have used the backward difference method for the Neumann boundary conditions. Ensure you use the central difference method.\"\"\"\n",
    "assert np.isclose(test_grid.u[0], np.array([2,2,2,2])).all() and np.isclose(test_grid.u[-1], np.array([1,1,1,1])).all(), \"\"\"Ensure you have used the central difference method to calculate the Neumann boundary conditions.\"\"\"\n",
    "### END TESTS ###"
   ]
  },
  {
   "cell_type": "markdown",
   "metadata": {},
   "source": [
    "### Provided for you: The Jacobi function\n",
    "\n",
    "Below, we implement the Jacobi iterative scheme to solve the Laplace equation for our system.\n",
    "This implements the psudocode above and uses the functions you have defined.\n",
    "\n",
    "The function `Jacobi` takes four inputs: the mesh (a ``Grid`` object), the maximum number of iterations, the tolerance criterion and the Neumann boundary condition. \n",
    "The iteration stops when the number of iterations exceeds the maximum number specified or if it meets the tolerance criterion. For simplicity, the latter is calculated as the maximum difference in any grid point between the old and new values.\n",
    "The function outputs the number of iterations when the solution converges below the tolerance criterion, and the error at the last iteration.\n",
    "\n",
    "The iterative scheme is implemented twice, once using `for` loops (which is easier to understand) and once using numpy array operations (which is faster). You can compare the two implementations by uncommenting the relavent lines below."
   ]
  },
  {
   "cell_type": "code",
   "execution_count": 16,
   "metadata": {},
   "outputs": [],
   "source": [
    "# This function is given for you. You do not need to modify it.\n",
    "# Run this cell to continue.\n",
    "def Jacobi(mesh: Grid, max_iterations: int, tolerance: float, neumann:float) -> tuple[int, float]:\n",
    "    \"\"\"The Jacobi iteration scheme.\n",
    "    \n",
    "    Parameters:\n",
    "    -----------\n",
    "\n",
    "    mesh: Grid\n",
    "        The grid on which to implement the Jacobi iteration.\n",
    "    max_iterations: int\n",
    "        The maximum number of iterations to perform.\n",
    "    tolerance: float\n",
    "        The error tolerance.\n",
    "    neumann: float\n",
    "        The Neumann boundary condition.\n",
    "        Note that in this code, all Neumann boundary conditions are assumed to be the same.\n",
    "        \n",
    "    Returns:\n",
    "    --------\n",
    "    \n",
    "    n_iterations: int\n",
    "        The number of iterations performed.\n",
    "    error: float\n",
    "        The error in the solution.\n",
    "    \"\"\"\n",
    "\n",
    "    n_iterations = 0\n",
    "\n",
    "    u_new = mesh.u.copy()\n",
    "    while n_iterations < max_iterations:\n",
    "        # Implement the Neumann boundary conditions.\n",
    "        NeumannBC(mesh = mesh, a = neumann)\n",
    "\n",
    "        # Do the iteration\n",
    "        for i in range(1, mesh.ni-1): # Comment out this line to try array operations\n",
    "            for j in range(1, mesh.nj-1): # Comment out this line to try array operations\n",
    "                u_new[i, j] = u_O(mesh.u[i+1, j], mesh.u[i-1, j], mesh.u[i, j+1], mesh.u[i, j-1], mesh.Delta_x(), mesh.Delta_y()) # Comment out this line to try array operations\n",
    "        # Note that we can also do use array operations to complete the iteration, as done below. \n",
    "        # #Typically, this is MUCH faster than using for loops. \n",
    "        # #Comment out the three lines of code above and uncomment the line below to try it out.\n",
    "        #u_new[1:-1, 1:-1] = u_O(mesh.u[2:, 1:-1], mesh.u[:-2, 1:-1], mesh.u[1:-1, 2:], mesh.u[1:-1, :-2], mesh.Delta_x(), mesh.Delta_y()) # Uncomment this line to try array operations\n",
    "        \n",
    "        # Implement the Dirichlet boundary conditions.\n",
    "        u_new[0,:] = mesh.u[0,:]\n",
    "        u_new[-1,:] = mesh.u[-1,:]\n",
    "        \n",
    "        # A tolerance criterion to stop the iteration if the solution has converged.\n",
    "        error = np.max(abs(mesh.u-u_new))\n",
    "        if error < tolerance:\n",
    "            mesh.u = u_new.copy()\n",
    "            break\n",
    "        mesh.u = u_new.copy()\n",
    "        \n",
    "        n_iterations += 1\n",
    "\n",
    "    if n_iterations == max_iterations:\n",
    "        print(f\"Jacobi iteration has not converged after {n_iterations} iterations.\\nThe error is {np.max(error)}.\") # This is not the correct place for this\n",
    "\n",
    "    return n_iterations, error"
   ]
  },
  {
   "cell_type": "markdown",
   "metadata": {},
   "source": [
    "### Provided for you: Initialisation of the problem\n",
    "\n",
    "In the cell below, we define a function `set_Jacobi_mesh` to setup the mesh and implement the Dirichlet boundary conditions given at the start of the section. This essentially covers step 1 of our pseudocode. Try to understand this code, as you will need something similar in future workshops. Run this cell, then move on to the next part. "
   ]
  },
  {
   "cell_type": "code",
   "execution_count": null,
   "metadata": {},
   "outputs": [],
   "source": [
    "def set_Jacobi_mesh() -> Grid:\n",
    "    \"\"\"Set up the Jacobi mesh for the problem.\"\"\"\n",
    "    Jacobi_mesh = Grid(101,101) # Sets the size of the grid in terms of grid points.\n",
    "    Jacobi_mesh.set_extent(30.,30.) # Sets the extent of the grid in terms of physical units.\n",
    "    Jacobi_mesh.set_origin(0., 0.) # Sets the origin of the grid in terms of physical units.\n",
    "    Jacobi_mesh.generate() # Generates the x, y and u arrays for the grid.\n",
    "\n",
    "\n",
    "    # Implement the Dirichlet boundary conditions\n",
    "    Jacobi_mesh.u[:,0] = 0\n",
    "    Jacobi_mesh.u[:,-1] = 100/30*Jacobi_mesh.x[:,-1]\n",
    "    return Jacobi_mesh\n",
    "\n",
    "Jacobi_mesh = set_Jacobi_mesh()\n",
    "\n",
    "# Plot the initial conditions\n",
    "\n",
    "plt.pcolor(Jacobi_mesh.x, Jacobi_mesh.y, Jacobi_mesh.u)\n",
    "cax = plt.colorbar()\n",
    "plt.title(\"Setup of top and bottom boundary conditions\")\n",
    "plt.xlabel(\"x\")\n",
    "plt.ylabel(\"y\")\n",
    "cax.set_label(r\"Temperature, $u(x,y)$ / $^\\circ$C \")\n",
    "plt.show()"
   ]
  },
  {
   "cell_type": "markdown",
   "metadata": {},
   "source": [
    "### d)\n",
    "\n",
    "Now, we will run the Jacobi iteration on the mesh defined above for two cases: one where the solution has not fully converged and one where it has.\n",
    "\n",
    "**i)**\n",
    "\n",
    "Set up the Jacobi mesh using the `set_Jacobi_mesh()` function and run the Jacobi iteration using the `Jacobi` function given above.\n",
    "\n",
    "[Hint: In the first plot, set ``max_iterations`` to be very low so that this stops the iteration. Play around wih the ``max iterations`` so that you gain some insight into how the solution converges.]"
   ]
  },
  {
   "cell_type": "code",
   "execution_count": null,
   "metadata": {},
   "outputs": [],
   "source": [
    "# Your code here.\n",
    "\n"
   ]
  },
  {
   "cell_type": "markdown",
   "metadata": {},
   "source": [
    "**ii)**\n",
    "\n",
    "Plot the results of the Jacobi iteration using [`plt.pcolor`](https://matplotlib.org/stable/api/_as_gen/matplotlib.pyplot.pcolor.html)."
   ]
  },
  {
   "cell_type": "code",
   "execution_count": null,
   "metadata": {},
   "outputs": [],
   "source": [
    "# Your code here:"
   ]
  },
  {
   "cell_type": "markdown",
   "metadata": {},
   "source": [
    "**iii)**\n",
    "\n",
    "Repeat steps i) and ii) for the case where the solution has converged.\n",
    "\n",
    "[Hint: Set ``max_iterations`` to be high enough to allow the iteration to converge.]"
   ]
  },
  {
   "cell_type": "code",
   "execution_count": null,
   "metadata": {},
   "outputs": [],
   "source": [
    "# Your code here:"
   ]
  },
  {
   "cell_type": "markdown",
   "metadata": {
    "vscode": {
     "languageId": "plaintext"
    }
   },
   "source": [
    "# Section 2: Successive Over-Relaxation\n",
    "\n",
    "The Jacobi iteration scheme is relatively simple to implement, but it is not the most efficient iterative scheme.\n",
    "The Successive Over-Relaxation (SOR) method is a modification of the Jacobi method which can converge faster and is implemented below.\n",
    "We will use this scheme to solve the Laplace equation for a second system."
   ]
  },
  {
   "cell_type": "code",
   "execution_count": 26,
   "metadata": {},
   "outputs": [],
   "source": [
    "def SOR(mesh: Grid, max_iterations: int, tolerance: float) -> tuple[int, float]:\n",
    "    \"\"\"The SOR iteration scheme.\n",
    "    \n",
    "    Parameters:\n",
    "    -----------\n",
    "    \n",
    "    mesh: Grid\n",
    "        The grid on which to implement the SOR iteration.\n",
    "    \n",
    "    max_iterations: int\n",
    "        The maximum number of iterations to perform.\n",
    "    \n",
    "    tolerance: float\n",
    "        The error tolerance.\n",
    "    \n",
    "    Returns:\n",
    "    --------\n",
    "    \n",
    "    n_iterations: int\n",
    "        The number of iterations performed.\n",
    "    \n",
    "    error: float\n",
    "        The error in the solution.\n",
    "    \"\"\"\n",
    "\n",
    "    # calculate the optimal value of omega\n",
    "    lamda = (np.cos(np.pi/mesh.ni)+np.cos(np.pi/mesh.nj))**2/4\n",
    "    omega = 2/(1+np.sqrt(1-lamda))\n",
    "    \n",
    "    # calculate the coefficients\n",
    "    beta = mesh.Delta_x()/mesh.Delta_y()\n",
    "    beta_sq = beta**2\n",
    "    C_beta = 1/(2*(1+beta_sq))\n",
    "    \n",
    "    # initialise u_new \n",
    "    u_new = mesh.u.copy()\n",
    "\n",
    "    n_iterations = 0\n",
    "    \n",
    "    # itteration\n",
    "    while n_iterations < max_iterations:\n",
    "        for i in range(1,mesh.ni-1):\n",
    "            for j in range(1,mesh.nj-1):\n",
    "                u_new[i,j] = (1-omega)*mesh.u[i,j] + omega * C_beta*(u_new[i,j-1]+mesh.u[i,j+1]+ beta_sq*(u_new[i-1,j]+mesh.u[i+1,j]))\n",
    "        \n",
    "        \n",
    "        # compute the difference between the new and old solutions\n",
    "        err = np.max(abs(mesh.u-u_new))\n",
    "        \n",
    "        # update the solution\n",
    "        mesh.u = np.copy(u_new)\n",
    "        \n",
    "        # converged?\n",
    "        if err < tolerance:\n",
    "            break\n",
    "        \n",
    "        n_iterations += 1\n",
    "    \n",
    "    return n_iterations, err # return the number of iterations and the final residual"
   ]
  },
  {
   "cell_type": "markdown",
   "metadata": {},
   "source": [
    "For this part of the workshop, we will solve a Laplace equation\n",
    "\n",
    "$$\n",
    "\\dfrac{\\partial^2 v}{\\partial x^2} + \\dfrac{\\partial^2 v}{\\partial y^2} = 0,\n",
    "$$\n",
    "\n",
    "with the following boundary conditions:\n",
    "* $v(0, y) = 0, \\quad y\\ge0$,\n",
    "* $v(1, y) = 0, \\quad y\\ge0$,\n",
    "* $v(x, y\\to\\infty) \\to 0, \\quad 0\\le x\\le1$,\n",
    "* $v(x, 0) = \\sin^5(\\pi x), \\quad 0\\le x\\le1$,\n",
    "\n",
    "in the region given by $0\\le x\\le1$ and $y\\ge0$.\n",
    "\n",
    "\n",
    "### a)\n",
    "Use the `Grid` class to set up a mesh and implement the boundary conditions for this problem.\n",
    "Produce a plot showing that these boundary conditions have been implemented correctly.\n",
    "In terms of numerical implementation, it is not possible to implement a boundary condition at $y\\to\\infty$ directly.\n",
    "However, this can usually be resolved by taking an upper bound that is sufficiently large for $y$.\n",
    "For this problem, we can replace $v(x, y\\to\\infty) \\to 0$ with $v(x,3)=0$.\n",
    "\n",
    "[Hint: You may find the [``plt.pcolor()``](https://matplotlib.org/stable/api/_as_gen/matplotlib.pyplot.pcolor.html) function useful for plotting the grid. You may also find it useful how the mesh was set up when we did the Jacobi iteration in the previous section.]"
   ]
  },
  {
   "cell_type": "code",
   "execution_count": null,
   "metadata": {},
   "outputs": [],
   "source": [
    "# Your code here:\n",
    "\n"
   ]
  },
  {
   "cell_type": "markdown",
   "metadata": {},
   "source": [
    "### b) \n",
    "\n",
    "Use the SOR implementation above to solve the Laplace equation for this system. Plot the resulting solution."
   ]
  },
  {
   "cell_type": "code",
   "execution_count": null,
   "metadata": {},
   "outputs": [],
   "source": [
    "# Your code here:\n",
    "\n"
   ]
  }
 ],
 "metadata": {
  "kernelspec": {
   "display_name": "PDEs3-5FhZHto3",
   "language": "python",
   "name": "python3"
  },
  "language_info": {
   "codemirror_mode": {
    "name": "ipython",
    "version": 3
   },
   "file_extension": ".py",
   "mimetype": "text/x-python",
   "name": "python",
   "nbconvert_exporter": "python",
   "pygments_lexer": "ipython3",
   "version": "3.10.8"
  }
 },
 "nbformat": 4,
 "nbformat_minor": 4
}
