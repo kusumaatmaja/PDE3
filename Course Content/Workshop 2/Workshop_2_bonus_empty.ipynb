{
 "cells": [
  {
   "cell_type": "markdown",
   "metadata": {},
   "source": [
    "# PDE3 Workshop 2 \n",
    "## Bonus Questions\n",
    "\n",
    "This notebook contains the solutions to the bonus questions of the second workshop of the PDE3 course. Attempt these questions only after you have solved the main questions of the workshop."
   ]
  },
  {
   "cell_type": "code",
   "execution_count": 2,
   "metadata": {},
   "outputs": [],
   "source": [
    "# Run this cell to import the required modules.\n",
    "import numpy as np\n",
    "import matplotlib.pyplot as plt\n",
    "from auxillary import Jacobi_iteration_vs_error, SOR_iteration_vs_error, calc_Q, Grid, SOR\n",
    "\n",
    "%matplotlib inline  "
   ]
  },
  {
   "cell_type": "markdown",
   "metadata": {},
   "source": [
    "In the last question of the main workshop, we solved the Laplace equation subject to the following boundary conditions:\n",
    "\n",
    "* $v(0, y) = 0, \\quad y\\ge0$\n",
    "* $v(1, y) = 0, \\quad y\\ge0$\n",
    "* $v(x, y\\to\\infty) \\to 0, \\quad 0\\le x\\le1$\n",
    "* $v(x, 0) = \\sin^5(\\pi x), \\quad 0\\le x\\le1$"
   ]
  },
  {
   "cell_type": "markdown",
   "metadata": {},
   "source": [
    "### a)\n",
    "Use the method of separation of variables to solve the Laplace equation subject to the boundary conditions in Section 2.\n",
    "\n",
    "You might want to use the identity\n",
    "$$\n",
    "\\sin^5\\theta = \\frac{1}{16}\\left(\\sin 5\\theta - 5 \\sin 3\\theta + 10 \\sin\\theta \\right)\n",
    "$$"
   ]
  },
  {
   "cell_type": "markdown",
   "metadata": {},
   "source": [
    "<font color='orange'>Your answer goes here. Double-click the cell to modify it.</font>\n",
    "\n"
   ]
  },
  {
   "cell_type": "markdown",
   "metadata": {},
   "source": [
    "### b)\n",
    "Implement the analytic solution you have found in Python and compare the result with the numerical solution from Section 2b for the main Jupyter notebook for Workshop 2.\n",
    "\n",
    "\n",
    "State why using $y=3$ was a suitable cutoff for the grid in Section 2b."
   ]
  },
  {
   "cell_type": "code",
   "execution_count": null,
   "metadata": {},
   "outputs": [],
   "source": [
    "# Your code here.\n",
    "\n"
   ]
  },
  {
   "cell_type": "markdown",
   "metadata": {},
   "source": [
    "<font color='orange'>Your answer goes here. Double-click the cell to modify it.</font>\n",
    "\n"
   ]
  },
  {
   "cell_type": "markdown",
   "metadata": {},
   "source": [
    "### c)\n",
    "Produce a plot to show how the error between the numerical (using both Jacobi and SOR schemes) and analytic solutions varies with increasing number of iterations. Comment on how quickly the two schemes converge. \n",
    "\n",
    "The error can be calculated as:\n",
    "\n",
    "$$\n",
    "\\varepsilon = \\frac{Q_\\text{analytic} - Q_\\text{numerical}}{Q_\\text{analytic}}\n",
    "$$\n",
    "\n",
    "where $Q_i$ is defined as \n",
    "$$\n",
    "Q_i = \\int_0^1\\int_0^{y_\\text{max}} u(x,y)^2 \\, dx \\, dy\n",
    "$$\n",
    "\n",
    "To assist with this question, modified versions of the Jacobi and SOR functions above have been provided in ``auxillary.py`` and have been imported above. \n",
    "These functions take in the computational mesh (`Grid` object) and the list of iteration steps to be sampled. They output the corresponding iterations and the values of $Q$ for those iterations. An implementation of the $Q$ integral is also provided. "
   ]
  },
  {
   "cell_type": "code",
   "execution_count": null,
   "metadata": {},
   "outputs": [],
   "source": [
    "# The code below sets up the mesh and runs the calculations for Jacobi and SOR schemes\n",
    "\n",
    "mesh_size = (101,301)\n",
    "mesh_extent = (1., 3.)\n",
    "\n",
    "iteration_steps = [2**i for i in range(0,11)]\n",
    "\n",
    "def setup_mesh(mesh_size: tuple[int,int], mesh_extent: tuple[float,float]) -> Grid:\n",
    "    mesh = Grid(*mesh_size)\n",
    "    mesh.set_extent(*mesh_extent)\n",
    "    mesh.generate()\n",
    "    mesh.u[0,:] = 0\n",
    "    mesh.u[-1,:] = 0\n",
    "    mesh.u[:,0] = np.sin(np.pi*mesh.x[:,0])**5\n",
    "    mesh.u[:,-1] = 0\n",
    "    return mesh\n",
    "\n",
    "\n",
    "mesh_Jacobi = setup_mesh(mesh_size, mesh_extent)\n",
    "iterations_Jacobi, Qs_Jacobi = Jacobi_iteration_vs_error(mesh=mesh_Jacobi, iterations_to_sample=iteration_steps)\n",
    "\n",
    "mesh_SOR = setup_mesh(mesh_size, mesh_extent)\n",
    "iterations_SOR, Qs_SOR = SOR_iteration_vs_error(mesh=mesh_SOR, iterations_to_sample=iteration_steps)\n",
    "\n",
    "mesh_analytic = setup_mesh(mesh_size, mesh_extent)\n",
    "mesh_analytic.u = analytic(mesh_analytic.x, mesh_analytic.y)\n",
    "Q_analytic = calc_Q(mesh_analytic)\n"
   ]
  },
  {
   "cell_type": "code",
   "execution_count": null,
   "metadata": {},
   "outputs": [],
   "source": [
    "# Your code here\n",
    "\n"
   ]
  }
 ],
 "metadata": {
  "kernelspec": {
   "display_name": "PDEs3-5FhZHto3",
   "language": "python",
   "name": "python3"
  },
  "language_info": {
   "codemirror_mode": {
    "name": "ipython",
    "version": 3
   },
   "file_extension": ".py",
   "mimetype": "text/x-python",
   "name": "python",
   "nbconvert_exporter": "python",
   "pygments_lexer": "ipython3",
   "version": "3.10.8"
  }
 },
 "nbformat": 4,
 "nbformat_minor": 4
}
