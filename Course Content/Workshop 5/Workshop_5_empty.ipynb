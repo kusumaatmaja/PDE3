{
 "cells": [
  {
   "cell_type": "markdown",
   "metadata": {},
   "source": [
    "# PDEs 3 Workshop 5\n",
    "\n",
    "Welcome to the final workshop of the PDE3 (Numerical) course."
   ]
  },
  {
   "cell_type": "markdown",
   "metadata": {},
   "source": [
    "This workshop has three sections:\n",
    "\n",
    "- Section 1: Traffic Jam\n",
    "- Section 2: Comparing Solvers\n",
    "- Bonus section: Tsunami"
   ]
  },
  {
   "cell_type": "markdown",
   "metadata": {},
   "source": [
    "In this workshop, we will solve the the 1D advection equation\n",
    "\n",
    "$$\\frac{\\partial u}{\\partial t} + a \\frac{\\partial u}{\\partial x} = 0,$$\n",
    "\n",
    "where $a$ is a constant which represents the velocity of the quantity which is being advected.\n",
    "\n",
    "Here, we will use the advection equation to model the movement of a traffic jam; later (in the bonus section) we will use the same equation to model the progression of a tsunami."
   ]
  },
  {
   "cell_type": "code",
   "execution_count": null,
   "metadata": {},
   "outputs": [],
   "source": [
    "import numpy as np\n",
    "import matplotlib.pyplot as plt"
   ]
  },
  {
   "cell_type": "markdown",
   "metadata": {},
   "source": [
    "## Section 1: Traffic Jam\n",
    "\n",
    "A 1 mile stretch of road contains a traffic jam which is $\\frac{1}{2}$ mile long, starting $\\frac{1}{4}$ mile from the beginning of the road. The traffic jam moves backwards along the road at a speed of 10 mph.\n",
    "\n",
    "To simplify the model, we will assume that the traffic jam is of uniform density, and that the traffic density is 0 outside of the jam.\n",
    "\n",
    "The instantaneous traffic density is therefore given by:\n",
    "\n",
    "$$u(x,0) = \\begin{cases} 1 &  0.25 \\leq x \\leq 0.75\\\\ 0 & \\text{otherwise} \\end{cases}$$\n",
    "\n",
    "To reduce the size of the domain we need to simulate, we will use periodic boundary conditions, i.e. $u(0,t) = u(1,t)$ for all $t$.\n",
    "We will implement these as part of our solver.\n",
    "\n",
    "The ``generate_grid`` function below implements a 1D grid of $N$ uniformly spaced points in the interval $[0,1]$ which we can use to solve the advection equation.\n",
    "The function returns the mesh spacing ``dx`` $(\\Delta x)$ and the x values of the gridpoints ``xs``.\n",
    "\n",
    "Run the cell to implement it."
   ]
  },
  {
   "cell_type": "code",
   "execution_count": null,
   "metadata": {},
   "outputs": [],
   "source": [
    "def generate_grid(N: int) -> tuple[float, np.ndarray]:\n",
    "    \"\"\"Generate a grid of $N$ uniformly spaced points in the interval $[0, 1]$, returning the grid spacing and the grid itself.\"\"\"\n",
    "\n",
    "    xs = np.linspace(0, 1, N, dtype=float)\n",
    "    dx = xs[1] - xs[0]\n",
    "\n",
    "    return dx, xs"
   ]
  },
  {
   "cell_type": "markdown",
   "metadata": {},
   "source": [
    "### a)\n",
    "\n",
    "Now, we need to implement the initial condition.\n",
    "\n",
    "Write a function called ``implement_initial`` which takes the x coordinates of the grid points ``xs`` and implements the boundary conditions given above.\n",
    "You should return an array ``us`` which contains the boundary conditions at each grid point.\n",
    "\n",
    "[**Hint:** You may find the functions [``np.zeros``](https://numpy.org/doc/stable/reference/generated/numpy.zeros.html) and [``np.ones``](https://numpy.org/doc/stable/reference/generated/numpy.ones.html) useful.]"
   ]
  },
  {
   "cell_type": "code",
   "execution_count": null,
   "metadata": {},
   "outputs": [],
   "source": [
    "# Your code here:\n",
    "\n"
   ]
  },
  {
   "cell_type": "markdown",
   "metadata": {},
   "source": [
    "Test the function to ensure it works correctly:"
   ]
  },
  {
   "cell_type": "code",
   "execution_count": null,
   "metadata": {},
   "outputs": [],
   "source": [
    "### BEGIN TESTS ###\n",
    "dx, xs = generate_grid(5)\n",
    "us = implement_initial(xs)\n",
    "\n",
    "assert us.size == 5, \"The solution array has the wrong size.\"\n",
    "assert not (np.all(np.isclose(us, np.array([0.,1.,1.,0.,0.]))) or np.all(np.isclose(us, np.array([0.,0.,1.,1.,0.])))), \"The initial condition is defined using 'less than or equal to', not 'less than'.\"\n",
    "assert np.all(np.isclose(us, np.array([0.,1.,1.,1.,0.]))), \"Check to ensure that the initial conditions are implemented correctly.\"\n",
    "\n",
    "# Plot the initial conditions:\n",
    "\n",
    "_, xs_testplot = generate_grid(10000)\n",
    "us_testplot = implement_initial(xs_testplot)\n",
    "plt.plot(xs_testplot, us_testplot)\n",
    "plt.title(\"Initial conditions\")\n",
    "plt.xlabel(\"$x$\")\n",
    "plt.ylabel(\"$u(x,0)$\")\n",
    "plt.show()\n",
    "\n",
    "### END TESTS ###"
   ]
  },
  {
   "cell_type": "markdown",
   "metadata": {},
   "source": [
    "### b)\n",
    "\n",
    "Now that we know the initial conditions, we need to calculate an appropriate time step to use. \n",
    "This can be done using\n",
    "\n",
    "$$\n",
    "\\Delta t = \\nu \\frac{\\Delta x}{|a|}\n",
    "$$\n",
    "\n",
    "where $\\nu$ is the Courant number and $a$ is the advection speed.\n",
    "\n",
    "Write a function called ``calculate_dt`` which takes the mesh spacing ``dx`` and the advection speed ``a`` and the Courant number ``nu`` (which has a default values of ``nu=0.95``) and returns the time step ``dt``.\n",
    "\n",
    "[**Hint:** To set default values, for example here on arg2, you can use the syntax ``def function_name(arg1, arg2=default_value)``.]"
   ]
  },
  {
   "cell_type": "code",
   "execution_count": null,
   "metadata": {},
   "outputs": [],
   "source": [
    "# Your code here:\n",
    "\n"
   ]
  },
  {
   "cell_type": "markdown",
   "metadata": {},
   "source": [
    "Test your function:"
   ]
  },
  {
   "cell_type": "code",
   "execution_count": null,
   "metadata": {},
   "outputs": [],
   "source": [
    "assert np.isclose(calculate_dt(dx=0.1, a=1.0, nu=0.95), 0.095), \"Check to ensure that the time step size is calculated correctly.\"\n",
    "assert np.isclose(calculate_dt(dx=0.1, a=1.0), 0.095), \"Check to ensure you have set the default values of the Courant number.\"\n",
    "assert np.isclose(calculate_dt(dx=0.1, a=-1.0), 0.095), \"Check to ensure that you have taken the absolute value of the advection speed.\""
   ]
  },
  {
   "cell_type": "markdown",
   "metadata": {},
   "source": [
    "Now we have set up the system, we are ready to solve the advection equation. To do this, we will implement the First-Order Upwind scheme, given by\n",
    "\n",
    "$$\n",
    "u_i^{n+1} = u_i^n - \\frac{a\\Delta t}{\\Delta x} (u_{i+1}^n - u_{i}^n)\n",
    "$$\n",
    "\n",
    "where $u_i^n$ is the value of $u$ at the $i^\\text{th}$ grid point at the $n^\\text{th}$ timestep.\n",
    "\n",
    "Note that we have adjusted this for backwards propogation since $a < 0$ in our case.\n",
    "If we wanted to model forwards advection, we simply swap $(u_{i+1}^n - u_{i}^n)$ for $(u_{i}^n - u_{i-1}^n)$.\n",
    "\n",
    "### c)\n",
    "Write a function called ``FOU`` which implements the First-Order Upwind scheme for a single timestep.\n",
    "This function takes the following arguments:\n",
    "\n",
    "- ``us``: the current values of $u$ at each grid point\n",
    "- ``a``: the advection speed\n",
    "- ``dt``: the timestep\n",
    "- ``dx``: the mesh spacing\n",
    "\n",
    "The function should return the values of $u$ at the next timestep.\n",
    "\n",
    "Remember that our domain is periodic which means that $u_{(N-1)+1}$ will be $u_{0}$.\n",
    "\n",
    "[**Hint:** To help with the periodic boundary, you can use the [``numpy.roll``](https://numpy.org/doc/stable/reference/generated/numpy.roll.html) function, which shifts the elements of an array by a given number of positions.]"
   ]
  },
  {
   "cell_type": "code",
   "execution_count": null,
   "metadata": {},
   "outputs": [],
   "source": [
    "# Your code here:\n",
    "\n"
   ]
  },
  {
   "cell_type": "markdown",
   "metadata": {},
   "source": [
    "Test your code to ensure it works correctly:"
   ]
  },
  {
   "cell_type": "code",
   "execution_count": null,
   "metadata": {},
   "outputs": [],
   "source": [
    "us_test = np.array([0.,1.,0.])\n",
    "assert np.all(np.isclose(FOU(us_test, a=-1.0, dt=0.1, dx=1.0), np.array([0.1,0.9, 0.]))), \"Check to ensure that the First-Order Upwind scheme is implemented correctly.\""
   ]
  },
  {
   "cell_type": "markdown",
   "metadata": {},
   "source": [
    "Now, we need to make our scheme advance in time, which we do using the ``solver`` function below.\n",
    "\n",
    "This has been implemented for you below. Run the cell below to continue."
   ]
  },
  {
   "cell_type": "code",
   "execution_count": null,
   "metadata": {},
   "outputs": [],
   "source": [
    "def solver(scheme, u_0: np.ndarray, a: float, dx: float, t_total: int) -> np.ndarray:\n",
    "    \"\"\"Solve the advection equation using the specified scheme and return the solution array at the final time step.\"\"\"\n",
    "    dt = calculate_dt(dx, a)\n",
    "\n",
    "    Nt = int(t_total // dt)\n",
    "\n",
    "    all_us = u_0\n",
    "\n",
    "    ts = np.arange(0, t_total, dt)\n",
    "\n",
    "    for i in range(Nt):\n",
    "        all_us = scheme(all_us, a, dt, dx)\n",
    "        \n",
    "    \n",
    "    return all_us, ts"
   ]
  },
  {
   "cell_type": "markdown",
   "metadata": {},
   "source": [
    "To get a sense of what is happening, we will start by simulating the traffic jam on a much longer stretch of road.\n",
    "You don't need to understand the code in the cell below, though you can look if you would like to.\n",
    "\n",
    "Run the cell below to continue.\n"
   ]
  },
  {
   "cell_type": "code",
   "execution_count": null,
   "metadata": {},
   "outputs": [],
   "source": [
    "# Here, we take the initial conditions you have written above and embed them in a much larger domain to see how the solution evolves over time.\n",
    "# You don't need to understand exactly what the code is doing here, though take a look if you would like!\n",
    "# Run this cell to continue.\n",
    "\n",
    "dx, xs = generate_grid(101)\n",
    "us = implement_initial(xs)\n",
    "xs_long = np.linspace(-19,1,2020, endpoint=True)\n",
    "us_long = np.zeros_like(xs_long, dtype=float)\n",
    "us_long[xs_long >= 0] = us\n",
    "\n",
    "fig, ax = plt.subplots(figsize=(21, 5))\n",
    "\n",
    "times = np.array([0,0.25,0.5,0.75,1,1.25,1.5])\n",
    "colors = plt.cm.viridis(np.linspace(0, 1, times.size))\n",
    "for t, color in zip(times, colors):\n",
    "    bcs = us_long.copy()\n",
    "    a = -10.0\n",
    "\n",
    "    us, ts = solver(FOU, bcs, a, dx, t)\n",
    "    plt.plot(xs_long, us, color=color, label=f'Time = {t}s')\n",
    "\n",
    "norm = plt.Normalize(vmin=0, vmax=1.5)\n",
    "plt.colorbar(plt.cm.ScalarMappable(norm=norm, cmap='viridis'), label='Time (hours)', ax=ax)\n",
    "ax.set_xlim(-19, 1)\n",
    "\n",
    "plt.xlabel(\"$x$ (miles)\")\n",
    "plt.ylabel(\"Traffic Density, $u(x,t)$\")\n",
    "plt.title(\"Propagation of a traffic jam over time\")\n",
    "plt.show()"
   ]
  },
  {
   "cell_type": "markdown",
   "metadata": {},
   "source": [
    "You should see that the traffic jam moves backwards along the road at a speed of 10 mph.\n",
    "You will probably also notice that the function we used to implement the initial conditions has become smoothed over time.\n",
    "We will investigate this further in the next section.\n",
    "\n",
    "## Section 2: Comparing Schemes\n",
    "\n",
    "Now, we can solve the advection equation on the periodic domain [0,1).\n",
    "\n",
    "### a)\n",
    "Use the functions which we have written above to investigate the behaviour of the First-Order Upwind scheme as time progresses. You should simulate the traffic jam using a grid with 5000 points and plot a comparison of the initial condition and the solution at $t=1, 2,4,$ and $8$ hours.\n",
    "For each time, you should plot the initial condition and soultion on the same plot.\n"
   ]
  },
  {
   "cell_type": "code",
   "execution_count": null,
   "metadata": {},
   "outputs": [],
   "source": [
    "# Your code here:\n",
    "\n"
   ]
  },
  {
   "cell_type": "markdown",
   "metadata": {},
   "source": [
    "In ``schemes.py``, the Lax-Friedrichs, Lax-Wendroff and MacCormack schemes have been implemented. You do not need to understand the details of the code for this workshop, but you you can look at it if you wish.\n",
    "Each of these schemes has been implemented to handle both forwards and backwards advection.\n",
    "\n",
    "Run the cell below to import them.\n",
    "\n",
    "If you have not been able to implement the First-Order Upwind scheme, uncomment the second line of the cell below to import it."
   ]
  },
  {
   "cell_type": "code",
   "execution_count": null,
   "metadata": {},
   "outputs": [],
   "source": [
    "from schemes import Lax_Friedrichs, Lax_Wendroff, MacCormack\n",
    "# from schemes import FOU"
   ]
  },
  {
   "cell_type": "markdown",
   "metadata": {},
   "source": [
    "### b)\n",
    "\n",
    "Produce three sets of plots similar to the one above for the FOU scheme to explore the behaviour of the Lax-Friedrichs, Lax-Wendroff and MacCormack schemes.\n",
    "You should plot the traffic density on separate plots after t = 1, 2, 4 and 8 hours. On each plot, you should also include the initial condition for comparison.\n",
    "\n",
    "In the case of perfect advection, you should see no difference between the initial condition and the solution at later times."
   ]
  },
  {
   "cell_type": "code",
   "execution_count": null,
   "metadata": {},
   "outputs": [],
   "source": [
    "# Your code here:\n",
    "\n"
   ]
  },
  {
   "cell_type": "markdown",
   "metadata": {},
   "source": [
    "## Section 3: Bonus Question\n",
    "\n",
    "In this bonus question, we will model the movement of a tsunami using the advection equation.\n",
    "\n",
    "The tsunami is modelled as a Gaussian pulse given by \n",
    "\n",
    "$$u(x,0) = e^{-\\frac{(x-0.5)^2}{0.01}}$$\n",
    "\n",
    "The tsunami moves at a speed of 20 km/h."
   ]
  },
  {
   "cell_type": "markdown",
   "metadata": {},
   "source": [
    "### a)\n",
    "\n",
    "Write a function called ``implement_tsunami`` which takes in ``xs``, a numpy array of the $x$ coordinates and returns ``us `` implementing the initial condition for the tsunami.\n",
    "This should work in a similar way to the ``implement_initial`` function you wrote earlier.\n",
    "\n",
    "You should then plot the initial condition."
   ]
  },
  {
   "cell_type": "code",
   "execution_count": null,
   "metadata": {},
   "outputs": [],
   "source": [
    "# Your code here:\n",
    "\n"
   ]
  },
  {
   "cell_type": "code",
   "execution_count": null,
   "metadata": {},
   "outputs": [],
   "source": [
    "dx, xs = generate_grid(1000)\n",
    "us = implement_tsunami(xs)\n",
    "\n",
    "plt.plot(xs, us)\n",
    "plt.title(\"Initial condition\")\n",
    "plt.xlabel(\"$x$\")\n",
    "plt.ylabel(\"Tsunami height, $u(x,0)$\")\n",
    "plt.show()"
   ]
  },
  {
   "cell_type": "markdown",
   "metadata": {},
   "source": [
    "### b)\n",
    "\n",
    "Create a modified version of the ``FOU`` function which we wrote earlier, called ``FOU_forwards`` which implements the First-Order Upwind scheme for forwards advection."
   ]
  },
  {
   "cell_type": "code",
   "execution_count": null,
   "metadata": {},
   "outputs": [],
   "source": [
    "# Your code here:\n",
    "\n"
   ]
  },
  {
   "cell_type": "markdown",
   "metadata": {},
   "source": [
    "### c)\n",
    "\n",
    "Model the tsunami using the First-Order Upwind scheme for forwards advection and compare its performance with another suitable scheme from those used in Section 2.\n",
    "\n",
    "You should use a grid with 5000 points and should model the system after 1,2,4 and 8 hours.\n",
    "\n",
    "[**Hint:** The schemes used in Section 2 have all been written to handle both forwards and backwards advection.]"
   ]
  },
  {
   "cell_type": "code",
   "execution_count": null,
   "metadata": {},
   "outputs": [],
   "source": [
    "# Your code here:\n",
    "\n"
   ]
  },
  {
   "cell_type": "markdown",
   "metadata": {},
   "source": [
    "### d)\n",
    "\n",
    "Discuss how the model can be made more realistic to model a tsunami wave."
   ]
  },
  {
   "cell_type": "markdown",
   "metadata": {},
   "source": [
    "<font color='orange'>Your answer here. Double click to edit.</font>\n",
    "\n"
   ]
  }
 ],
 "metadata": {
  "kernelspec": {
   "display_name": "Python [conda env:base] *",
   "language": "python",
   "name": "conda-base-py"
  },
  "language_info": {
   "codemirror_mode": {
    "name": "ipython",
    "version": 3
   },
   "file_extension": ".py",
   "mimetype": "text/x-python",
   "name": "python",
   "nbconvert_exporter": "python",
   "pygments_lexer": "ipython3",
   "version": "3.12.7"
  }
 },
 "nbformat": 4,
 "nbformat_minor": 4
}
