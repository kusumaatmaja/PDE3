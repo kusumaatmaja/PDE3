{
 "cells": [
  {
   "cell_type": "markdown",
   "metadata": {},
   "source": [
    "# PDEs 3 Workshop 1\n",
    "\n",
    "Welcome to the first workshop of the PDE 3 (Numerical) course! \n",
    "\n",
    "### How the workshops will work:\n",
    "\n",
    "These workshops will give you a chance to put into practice the materials you have learnt in the lectures. You will have a two-hour workshop every two weeks and each will be in the format of a Jupyter Notebook like this one, allowing you to write and run code as well as give written answers in the same document. If you are unsure of how to use Jupyter Notebooks, take a look at the quickstart guide [here](https://jupyter-notebook.readthedocs.io/en/latest/) or ask one of your demonstators for help.\n",
    "\n",
    "All of the work we will complete in these workshops will use standard Python libraries such as `numpy` and `matplotlib`. Any modules that are required for an exercise will have been imported for you. You certainly should not need to try to install any modules yourself.\n",
    "\n",
    "When you are asked to write a Python function to complete a task, there may be a test cell below it which you can use to check your work. These will give comments to help you, incase you make any common mistakes. If your code passes these checks, you have likely implemented it correctly (though you should always check to make sure yourself too!).\n",
    "\n",
    "**Hint:** You may find it useful to turn on line numbers when you are debugging - you can do this by going to `View` > `Show Line Numbers`.\n",
    "\n",
    "\n",
    "Some questions will require you to do analytic work; you can either type your answers using [LaTeX](https://www.overleaf.com/learn/latex/Mathematical_expressions) or write them by hand separately.\n",
    "\n",
    "### In this workshop:\n",
    "- Section 1: Python Referesher\n",
    "- Section 2: Getting started with Numerical Methods\n",
    "- Section 3: Introduction to PDEs and Plotting Refresher"
   ]
  },
  {
   "cell_type": "code",
   "execution_count": 1,
   "metadata": {},
   "outputs": [],
   "source": [
    "# Run this cell to import the required modules.\n",
    "# Do this before you write any code!\n",
    "import numpy as np\n",
    "import matplotlib.pyplot as plt\n",
    "%matplotlib inline"
   ]
  },
  {
   "cell_type": "markdown",
   "metadata": {},
   "source": [
    "## Section 1: Python Refresher\n",
    "\n",
    "In this section, we will refresh your Python skills and cover some basic functions which you will probably find useful throughout the course. If you need any help, please ask one of the demonstrators.\n",
    "\n",
    "\n",
    "### a)\n",
    "Create two variables called `test_integers` and `test_floats`, and print them. `test_integers` should be a numpy array of even numbers between 2 and 10 (inclusive). `test_floats` should be a numpy array of 10 evenly spaced numbers in the interval [0,4) - this includes 0.0 but not 4.0.\n",
    "\n",
    "**Hint:** You may find the following functions useful:\n",
    "- [`numpy.arange`](https://numpy.org/doc/stable/reference/generated/numpy.arange.html)\n",
    "- [`np.linspace`](https://numpy.org/doc/stable/reference/generated/numpy.linspace.html)"
   ]
  },
  {
   "cell_type": "code",
   "execution_count": null,
   "metadata": {},
   "outputs": [],
   "source": [
    "## Your Code Here:\n",
    "\n"
   ]
  },
  {
   "cell_type": "code",
   "execution_count": 3,
   "metadata": {},
   "outputs": [],
   "source": [
    "# This is a test cell. Run it to test the implementation of your code above.\n",
    "\n",
    "### BEGIN TEST ###\n",
    "\n",
    "assert type(test_integers) == np.ndarray, \"The variable `test_integers` does not seem to be a numpy array. Ensure it is a numpy array and not a list (or another data type).\"\n",
    "assert test_integers.size == 5, \"The variable `test_integers` should contain 5 elements. Print it to the screen to see how many it contains.\"\n",
    "assert np.isclose(test_integers, np.array([2,4,6,8,10])).all(), \"The elements of `test_integers` do not seem to be correct. Print it to the screen to see what they are.\"\n",
    "\n",
    "assert type(test_floats) == np.ndarray, \"The variable `test_floats` does not seem to be a numpy array. Ensure it is a numpy array and not a list (or another data type).\"\n",
    "assert test_floats.size == 10, \"The variable `test_floats` should contain 10 elements. Print test_floats.size to the screen to see how many elements it contains.\"\n",
    "assert np.isclose(test_floats, np.array([0.,0.4,0.8,1.2,1.6,2.,2.4,2.8,3.2,3.6])).all(), \"The elements of `test_floats` do not seem to be correct. Print it to the screen to see what they are.\"\n",
    "# Note: you should NOT define the numpy arrays manually as they have been done here! Use the hint in the question instead. \n",
    "\n",
    "### END TEST ###"
   ]
  },
  {
   "cell_type": "markdown",
   "metadata": {},
   "source": [
    "### b)\n",
    "Define a function `f` equavalent to $f(x) = \\sin(2 x) + \\cos(2 x)$. It should take either floats or numpy arrays as input. Test the created function by entering the previously created `test_integers` as input and printing the output. You may find the `def` keyword useful in python to define your function."
   ]
  },
  {
   "cell_type": "code",
   "execution_count": null,
   "metadata": {},
   "outputs": [],
   "source": [
    "## Your Code Here:\n",
    "\n"
   ]
  },
  {
   "cell_type": "code",
   "execution_count": 5,
   "metadata": {},
   "outputs": [],
   "source": [
    "### BEGIN TEST ###\n",
    "\n",
    "assert type(f(0.)) == np.float64, \"Check that your function returns a float when a float is passed to it.\"\n",
    "assert type(f(test_floats)) == np.ndarray, \"Check that your function returns a numpy array when a numpy array is passed to it. This is the default behaviour for numpy functions. \\nYou should not be using lists!\"\n",
    "assert np.isclose(f(0.5), 1.38177329) and np.isclose(f(0), 1.) and np.isclose(f(np.pi/4), 1.), \"Check that the function you have implemented is sin(2x)\"\n",
    "assert np.isclose(f(test_floats), np.array([1.,1.4140628,0.97037408,-0.06193053,-1.05666892,-1.41044612,-0.90866563,0.14429924,1.10973412,1.40201918])).all(), \"Check that your function works with both numpy arrays as well as floats.\"\n",
    "\n",
    "### END TEST ###"
   ]
  },
  {
   "cell_type": "markdown",
   "metadata": {},
   "source": [
    "## Section 2: Numerical Derivatives\n",
    "### a)\n",
    "Complete the function `forwards_derivative` defined below which **numerically** calculates the forwards derivative of a function `f` passed into it at a point `x` with a stepsize `delta_x`.\n",
    "\n",
    "**Hint:** The forwards derivative is defined as:\n",
    "$$\n",
    "\\frac{df}{dx} \\approx \\frac{f(x+\\Delta x) - f(x)}{\\Delta x}\n",
    "$$"
   ]
  },
  {
   "cell_type": "code",
   "execution_count": 6,
   "metadata": {},
   "outputs": [],
   "source": [
    "\n",
    "def forwards_derivative(f, x: float, delta_x: float = 1e-6)-> float:\n",
    "    \"\"\"A function to numerically calculate the forwards derivative of an input function at a given point.\n",
    "    \n",
    "    Parameters\n",
    "    ----------\n",
    "    f : \n",
    "        The function for which the derivative is to be calculated.\n",
    "    x : \n",
    "        The point at which the derivative is to be calculated. This should be a float or a numpy array of floats.\n",
    "    delta_x : \n",
    "        The step size for the numerical derivative calculation. Default is 1e-6.\n",
    "\n",
    "    Returns\n",
    "    -------\n",
    "\n",
    "        The numerical derivative of the function at the point x. This will be a float or a numpy array of floats depending on the input x.\n",
    "    \n",
    "    \"\"\"\n",
    "\n",
    "    ## Your Code Here:\n",
    "\n",
    "    \n"
   ]
  },
  {
   "cell_type": "code",
   "execution_count": 7,
   "metadata": {},
   "outputs": [],
   "source": [
    "### BEGIN TEST ###\n",
    "\n",
    "def test_fct(x: float)-> float:\n",
    "    return x\n",
    "assert np.isclose(1, forwards_derivative(f=test_fct, x=2, delta_x=1e-6)), \"Check to ensure you have implemented the forwards derivative correctly. Check to ensure it works for any general function of x.\"\n",
    "assert np.isclose(np.ones(5), forwards_derivative(f=test_fct, x=np.arange(1,6), delta_x=1e-6)).all(), \"Your forwards derivative seems to work with single numbers but not numpy arrays. Check your implementation to ensure it works with both.\"\n",
    "assert np.isclose(2.*np.cos(2.*test_floats)-2.*np.sin(2.*test_floats), forwards_derivative(f=f, x=test_floats, delta_x=1e-7)).all(), \"Your forwards derivative seems to work with simple functions but not more complicated ones. Check to ensure it works for any general function of x.\"\n",
    "\n",
    "### END TEST ###"
   ]
  },
  {
   "cell_type": "markdown",
   "metadata": {},
   "source": [
    "### b)\n",
    "Plot the difference between the numeric derivative of `f` (calculated using `forwards_derivative`) and the analytic derivative for three values of `delta_x` (one too small, one 'just right' and one too large) in the range $-\\pi \\le x \\le \\pi$. You will need to play around to find sensible values of `delta_x`. The analytic derivative is defined for you below."
   ]
  },
  {
   "cell_type": "code",
   "execution_count": 8,
   "metadata": {},
   "outputs": [],
   "source": [
    "# This cell will give you the analytic derivative of f(x) = sin(pi*x).\n",
    "# You don't need to do anything here, just run the cell.\n",
    "\n",
    "### BEGIN READ ONLY ###\n",
    "\n",
    "def analytic_derivative(x: float)-> float:\n",
    "    \"\"\"The analytic derivative of sin(pi*x). Takes a value (or values) of x as input.\"\"\"\n",
    "    return 2 * np.cos(2*x) - 2 * np.sin(2*x)\n",
    "\n",
    "### END READ ONLY ###"
   ]
  },
  {
   "cell_type": "markdown",
   "metadata": {},
   "source": [
    "Hint: You might find the [`plt.plot`](https://matplotlib.org/stable/api/_as_gen/matplotlib.pyplot.plot.html) function useful when plotting."
   ]
  },
  {
   "cell_type": "code",
   "execution_count": null,
   "metadata": {},
   "outputs": [],
   "source": [
    "## Your Code Here:\n",
    "\n"
   ]
  },
  {
   "cell_type": "markdown",
   "metadata": {},
   "source": [
    "### c)\n",
    "Explain why each curve on the plot has the shape that it does."
   ]
  },
  {
   "cell_type": "markdown",
   "metadata": {},
   "source": [
    "Your answer goes here. Double-click the cell to modify it."
   ]
  },
  {
   "cell_type": "markdown",
   "metadata": {},
   "source": [
    "## Section 3: Introduction to PDEs\n",
    "\n",
    "In this section, we will look at the properties of PDEs.\n",
    "\n",
    "### a)\n",
    "Show (by hand) that the following PDE is a parabolic PDE when $\\beta = 0$:\n",
    "\n",
    "$$\n",
    "\\alpha^2 \\dfrac{\\partial^2 u}{\\partial x^2} = \\beta\\dfrac{\\partial ^2 u}{\\partial t^2} + \\gamma\\dfrac{\\partial u}{\\partial t}\n",
    "$$"
   ]
  },
  {
   "cell_type": "markdown",
   "metadata": {},
   "source": [
    "<font color='orange'>Your answer goes here. Double-click the cell to modify it.\n",
    "\n",
    "Here is an example of how to write mathematical equations using $\\LaTeX$ syntax:\n",
    "\n",
    "$$\n",
    "x = \\frac{-b \\pm \\sqrt{b^2-4ac}}{2a}\n",
    "$$\n",
    "</font>"
   ]
  },
  {
   "cell_type": "markdown",
   "metadata": {},
   "source": [
    "### b)\n",
    "Bonus question: State the values for $\\alpha$, $\\beta$ and $\\gamma$ which would make the PDE in (a) an elliptic PDE and a hyperbolic PDE."
   ]
  },
  {
   "cell_type": "markdown",
   "metadata": {},
   "source": [
    "<font color='orange'>Your answer goes here. Double-click the cell to modify it.</font>\n",
    "\n",
    "\n"
   ]
  },
  {
   "cell_type": "markdown",
   "metadata": {},
   "source": [
    "### c)\n",
    "Show (by hand) that \n",
    "$$\n",
    "u(x,t) = e^{-kt} \\cos(mx)\n",
    "$$\n",
    "\n",
    " is a solution to the PDE in part (a) if $\\alpha^2 = \\frac{k}{m^2}$ when $\\beta = 0$ and $\\gamma = 1$"
   ]
  },
  {
   "cell_type": "markdown",
   "metadata": {},
   "source": [
    "<font color='orange'>Your answer goes here. Double-click the cell to modify it.</font>\n"
   ]
  },
  {
   "cell_type": "markdown",
   "metadata": {},
   "source": [
    "### d)\n",
    "Set $k=1$ and $m=\\frac{1}{2}$ for $u(x,t)$. We will look at $u(x,t)$ in the region given by $0 \\le x \\le \\pi$ and $0 \\le t \\le  1$.\n",
    "\n",
    "Determine the boundary conditions that are suitable for the solution given above.\n",
    "\n",
    "[Hint: Determine the value of $u(x,t)$ at the boundaries of the region]"
   ]
  },
  {
   "cell_type": "markdown",
   "metadata": {},
   "source": [
    "<font color='orange'>Your answer goes here. Double-click the cell to modify it.</font>\n"
   ]
  },
  {
   "cell_type": "markdown",
   "metadata": {},
   "source": [
    "### e)\n",
    "\n",
    "Plot $u(x,t)$ in the region given by $ 0\\le x\\le\\pi$ and $0\\le t\\le 1$.\n",
    "\n",
    "Set $k=1$ and $m=\\frac{1}{2}$ for $u(x,t)$.\n",
    "\n",
    "You should include a colour plot with a contour plot overlayed onto it, as well as a colorbar to illustrate the value of the color in the contour plot.\n",
    "\n",
    "**Hint:** You may find the following functions useful:\n",
    "- [`np.meshgrid`](https://numpy.org/doc/stable/reference/generated/numpy.meshgrid.html) for creating the grid of points to plot.\n",
    "- [`plt.subplots`](https://matplotlib.org/stable/gallery/subplots_axes_and_figures/subplots_demo.html) for creating subplots in a figure.\n",
    "- [`plt.pcolor`](https://matplotlib.org/stable/api/_as_gen/matplotlib.pyplot.pcolor.html) for plotting the colour plot.\n",
    "- [`plt.contour`](https://matplotlib.org/stable/api/_as_gen/matplotlib.pyplot.contour.html) for plotting the contours.\n",
    "- [`plt.colorbar`](https://matplotlib.org/stable/api/_as_gen/matplotlib.pyplot.colorbar.html) for creating a colorbar."
   ]
  },
  {
   "cell_type": "code",
   "execution_count": null,
   "metadata": {},
   "outputs": [],
   "source": [
    "# Your Code Here:\n"
   ]
  }
 ],
 "metadata": {
  "kernelspec": {
   "display_name": "PDEs3-5FhZHto3",
   "language": "python",
   "name": "python3"
  },
  "language_info": {
   "codemirror_mode": {
    "name": "ipython",
    "version": 3
   },
   "file_extension": ".py",
   "mimetype": "text/x-python",
   "name": "python",
   "nbconvert_exporter": "python",
   "pygments_lexer": "ipython3",
   "version": "3.10.8"
  }
 },
 "nbformat": 4,
 "nbformat_minor": 2
}
